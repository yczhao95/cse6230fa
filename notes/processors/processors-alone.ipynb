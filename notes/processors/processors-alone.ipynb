{
 "cells": [
  {
   "cell_type": "markdown",
   "metadata": {
    "slideshow": {
     "slide_type": "slide"
    }
   },
   "source": [
    "# Processors Alone\n",
    "\n",
    "![](images/cpu.jpg)\n",
    "\n",
    "$$\\Huge\\color{blue}{\\text{Registers}}$$\n",
    "\n",
    "$$\\Huge\\color{red}{\\text{Scheduler}}$$\n",
    "\n",
    "$$\\Huge\\color{green}{\\text{Functional Units}}$$"
   ]
  },
  {
   "cell_type": "markdown",
   "metadata": {
    "slideshow": {
     "slide_type": "subslide"
    }
   },
   "source": [
    "### When introducing OpenMP (which we will look at in more depth later in the class), it's typical to start with a simple example of how easy it makes it to parallelize your code:\n",
    "\n",
    "```C\n",
    "/* We added one pragma and it's parallel! */\n",
    "#pragma omp parallel for\n",
    "for (i = 0; i < N; i++) {\n",
    "  A[i] = func (b[i], c[i]);\n",
    "}\n",
    "```"
   ]
  },
  {
   "cell_type": "markdown",
   "metadata": {
    "slideshow": {
     "slide_type": "subslide"
    }
   },
   "source": [
    "### In fact, parallelizing you code can be even simpler, you don't even have to change it.\n",
    "\n",
    "You simply have to change from this:"
   ]
  },
  {
   "cell_type": "code",
   "execution_count": 5,
   "metadata": {},
   "outputs": [],
   "source": [
    "cd $CSE6230_DIR/assignments/first-week-flops\n",
    "cc -g -c -o fma_loop_host.o fma_loop_host.c -O0"
   ]
  },
  {
   "cell_type": "markdown",
   "metadata": {
    "slideshow": {
     "slide_type": "fragment"
    }
   },
   "source": [
    "To this:"
   ]
  },
  {
   "cell_type": "code",
   "execution_count": 17,
   "metadata": {},
   "outputs": [],
   "source": [
    "cc -g -c -o fma_loop_host_opt.o fma_loop_host.c -O3"
   ]
  },
  {
   "cell_type": "markdown",
   "metadata": {},
   "source": [
    "By asking the compiler to try its best to optimize my code, it is able to exploit parallelism within the CPU core, even for my serial program.\n",
    "\n",
    "---\n",
    "\n",
    "Questions we'd like to answer today:\n",
    "\n",
    "- What kind of parallelism is available in a single core, and how much of it?\n",
    "- How can I exploit it?\n",
    "- Can all applications exploit it?\n",
    "- How can I make the compiler do the work for me?\n",
    "- How does the parallelism on a CPU core compare to the parallelism in a GPU?\n",
    "\n",
    "\n",
    "Tools we will use today:\n",
    "\n",
    "- Code compilers, like `cc` above, focusing on their optimization options.  `cc` is typically an alias for a major compiler (you can typically run `man CC` or `CC --help` to get big lists of optimization and other options)\n",
    "  * GNU `gcc`\n",
    "  * LLVM `clang`\n",
    "  * NVIDIA `nvcc`\n",
    "  * Vendor specific (like Intel `icc`)\n",
    "  (focus on their optimization options)\n",
    "- Code decompilers and diagnostics (to see what the heck compilers are doing)\n",
    "- Hardware counters for things that happen in the processor"
   ]
  },
  {
   "cell_type": "markdown",
   "metadata": {},
   "source": [
    "**Note:** For many, many applications, optimal performance can't be achieved by optimizing just the processor's performance alone: we have to optimize it's interactions with the memory system. That is why I'd like to finish the \"Processors alone\" module today.\n",
    "\n",
    "Luckily, optimizing the processor in isolation is something that compilers are quite good at.\n",
    "\n",
    "If you have to take away one keep concept today, it is **Little's law**, which will often tell you how to structure your code to set the compiler up for success."
   ]
  },
  {
   "cell_type": "markdown",
   "metadata": {
    "slideshow": {
     "slide_type": "slide"
    }
   },
   "source": [
    "## Recall the end stage of compilation we discussed in the first lecture: machine code\n",
    "\n",
    "When I compiled `fma_loop_host.o` above, it created a file with those instructions.  It's encoded in binary, so opening it up in a text editor won't tell us much, but I can still find out what those machine code instructions are by decompiling the binary into assembly language.  The utility that let's me do that is called `objdump`.\n",
    "\n",
    "(We haven't talked about how CUDA code is different, but for now let's just mention that it comes with its own decompiler: `cuobjdump`)\n",
    "\n",
    "Here is the entirety of `fma_loop_host.c` from assignment 1:"
   ]
  },
  {
   "cell_type": "code",
   "execution_count": 9,
   "metadata": {},
   "outputs": [
    {
     "name": "stdout",
     "output_type": "stream",
     "text": [
      "\u001b[36m#\u001b[39;49;00m\u001b[36minclude\u001b[39;49;00m \u001b[37m\"fma_host.h\"\u001b[39;49;00m\u001b[36m\u001b[39;49;00m\n",
      "\n",
      "\u001b[37m/* fma_loop: Fused Multiply Add loop\u001b[39;49;00m\n",
      "\u001b[37m *           -     -        -\u001b[39;49;00m\n",
      "\u001b[37m *\u001b[39;49;00m\n",
      "\u001b[37m * a[:] = a[:] * b + c, T times\u001b[39;49;00m\n",
      "\u001b[37m *\u001b[39;49;00m\n",
      "\u001b[37m * Inputs:\u001b[39;49;00m\n",
      "\u001b[37m * N : the size of the array\u001b[39;49;00m\n",
      "\u001b[37m * T : the number of loops\u001b[39;49;00m\n",
      "\u001b[37m * b : the multiplier\u001b[39;49;00m\n",
      "\u001b[37m * c : the shift\u001b[39;49;00m\n",
      "\u001b[37m *\u001b[39;49;00m\n",
      "\u001b[37m * Input-Outputs:\u001b[39;49;00m\n",
      "\u001b[37m * a : the array\u001b[39;49;00m\n",
      "\u001b[37m */\u001b[39;49;00m\n",
      "\u001b[36mvoid\u001b[39;49;00m\n",
      "\u001b[32mfma_loop_host\u001b[39;49;00m (\u001b[36mint\u001b[39;49;00m N, \u001b[36mint\u001b[39;49;00m T, \u001b[36mfloat\u001b[39;49;00m *a, \u001b[36mfloat\u001b[39;49;00m b, \u001b[36mfloat\u001b[39;49;00m c)\n",
      "{\n",
      "  \u001b[34mfor\u001b[39;49;00m (\u001b[36mint\u001b[39;49;00m i = \u001b[34m0\u001b[39;49;00m; i < N; i++) {\n",
      "    \u001b[34mfor\u001b[39;49;00m (\u001b[36mint\u001b[39;49;00m j = \u001b[34m0\u001b[39;49;00m; j < T; j++) {\n",
      "      a[i] = a[i] * b + c;\n",
      "    }\n",
      "  }\n",
      "}\n"
     ]
    }
   ],
   "source": [
    "cat fma_loop_host.c | pygmentize"
   ]
  },
  {
   "cell_type": "code",
   "execution_count": 11,
   "metadata": {},
   "outputs": [
    {
     "name": "stdout",
     "output_type": "stream",
     "text": [
      "fma_loop_host.o:     file format \u001b[33melf64-x86-64\u001b[39;49;00m\n",
      "\n",
      "\n",
      "Disassembly of section .text:\n",
      "\n",
      "\u001b[34m0000000000000000\u001b[39;49;00m <\u001b[32mfma_loop_host\u001b[39;49;00m>:\n",
      " * Input-Outputs:\n",
      " * a : the array\n",
      " \u001b[04m\u001b[31;01m*/\u001b[39;49;00m\n",
      "\u001b[36mvoid\u001b[39;49;00m\n",
      "fma_loop_host (\u001b[36mint\u001b[39;49;00m N, \u001b[36mint\u001b[39;49;00m T, \u001b[36mfloat\u001b[39;49;00m *a, \u001b[36mfloat\u001b[39;49;00m b, \u001b[36mfloat\u001b[39;49;00m c)\n",
      "{\n",
      "   0:\t\u001b[34m55 \u001b[39;49;00m                  \t\u001b[32mpush\u001b[39;49;00m   \u001b[31m%rbp\u001b[39;49;00m\n",
      "   1:\t\u001b[34m48 89 e5 \u001b[39;49;00m            \t\u001b[32mmov\u001b[39;49;00m    \u001b[31m%rsp\u001b[39;49;00m,\u001b[31m%rbp\u001b[39;49;00m\n",
      "   4:\t\u001b[34m89 7d ec \u001b[39;49;00m            \t\u001b[32mmov\u001b[39;49;00m    \u001b[31m%edi\u001b[39;49;00m,-\u001b[34m0x14\u001b[39;49;00m(\u001b[31m%rbp\u001b[39;49;00m)\n",
      "   7:\t\u001b[34m89 75 e8 \u001b[39;49;00m            \t\u001b[32mmov\u001b[39;49;00m    \u001b[31m%esi\u001b[39;49;00m,-\u001b[34m0x18\u001b[39;49;00m(\u001b[31m%rbp\u001b[39;49;00m)\n",
      "   a:\t\u001b[34m48 89 55 e0 \u001b[39;49;00m         \t\u001b[32mmov\u001b[39;49;00m    \u001b[31m%rdx\u001b[39;49;00m,-\u001b[34m0x20\u001b[39;49;00m(\u001b[31m%rbp\u001b[39;49;00m)\n",
      "   e:\t\u001b[34mf3 0f 11 45 dc \u001b[39;49;00m      \t\u001b[32mmovss\u001b[39;49;00m  \u001b[31m%xmm0\u001b[39;49;00m,-\u001b[34m0x24\u001b[39;49;00m(\u001b[31m%rbp\u001b[39;49;00m)\n",
      "  13:\t\u001b[34mf3 0f 11 4d d8 \u001b[39;49;00m      \t\u001b[32mmovss\u001b[39;49;00m  \u001b[31m%xmm1\u001b[39;49;00m,-\u001b[34m0x28\u001b[39;49;00m(\u001b[31m%rbp\u001b[39;49;00m)\n",
      "  \u001b[34mfor\u001b[39;49;00m (\u001b[36mint\u001b[39;49;00m i = \u001b[34m0\u001b[39;49;00m; i < N; i++) {\n",
      "  18:\t\u001b[34mc7 45 f8 00 00 00 00 \u001b[39;49;00m\t\u001b[32mmovl\u001b[39;49;00m   \u001b[31m$0x0\u001b[39;49;00m,-\u001b[34m0x8\u001b[39;49;00m(\u001b[31m%rbp\u001b[39;49;00m)\n",
      "  1f:\t\u001b[34meb 53 \u001b[39;49;00m               \t\u001b[32mjmp\u001b[39;49;00m    \u001b[34m74\u001b[39;49;00m <\u001b[31mfma_loop_host\u001b[39;49;00m+\u001b[34m0x74\u001b[39;49;00m>\n",
      "    \u001b[34mfor\u001b[39;49;00m (\u001b[36mint\u001b[39;49;00m j = \u001b[34m0\u001b[39;49;00m; j < T; j++) {\n",
      "  21:\t\u001b[34mc7 45 fc 00 00 00 00 \u001b[39;49;00m\t\u001b[32mmovl\u001b[39;49;00m   \u001b[31m$0x0\u001b[39;49;00m,-\u001b[34m0x4\u001b[39;49;00m(\u001b[31m%rbp\u001b[39;49;00m)\n",
      "  28:\t\u001b[34meb 3e \u001b[39;49;00m               \t\u001b[32mjmp\u001b[39;49;00m    \u001b[34m68\u001b[39;49;00m <\u001b[31mfma_loop_host\u001b[39;49;00m+\u001b[34m0x68\u001b[39;49;00m>\n",
      "      a[i] = a[i] * b + c;\n",
      "  2a:\t\u001b[34m8b 45 f8 \u001b[39;49;00m            \t\u001b[32mmov\u001b[39;49;00m    -\u001b[34m0x8\u001b[39;49;00m(\u001b[31m%rbp\u001b[39;49;00m),\u001b[31m%eax\u001b[39;49;00m\n",
      "  2d:\t\u001b[34m48 98 \u001b[39;49;00m               \t\u001b[32mcltq\u001b[39;49;00m   \n",
      "  2f:\t\u001b[34m48 8d 14 85 00 00 00 \u001b[39;49;00m\t\u001b[32mlea\u001b[39;49;00m    \u001b[34m0x0\u001b[39;49;00m(,\u001b[31m%rax\u001b[39;49;00m,\u001b[34m4\u001b[39;49;00m),\u001b[31m%rdx\u001b[39;49;00m\n",
      "  36:\t\u001b[34m00 \u001b[39;49;00m\n",
      "  37:\t\u001b[34m48 8b 45 e0 \u001b[39;49;00m         \t\u001b[32mmov\u001b[39;49;00m    -\u001b[34m0x20\u001b[39;49;00m(\u001b[31m%rbp\u001b[39;49;00m),\u001b[31m%rax\u001b[39;49;00m\n",
      "  3b:\t\u001b[34m48 01 d0 \u001b[39;49;00m            \t\u001b[32madd\u001b[39;49;00m    \u001b[31m%rdx\u001b[39;49;00m,\u001b[31m%rax\u001b[39;49;00m\n",
      "  3e:\t\u001b[34mf3 0f 10 00 \u001b[39;49;00m         \t\u001b[32mmovss\u001b[39;49;00m  (\u001b[31m%rax\u001b[39;49;00m),\u001b[31m%xmm0\u001b[39;49;00m\n",
      "  42:\t\u001b[34mf3 0f 59 45 dc \u001b[39;49;00m      \t\u001b[32mmulss\u001b[39;49;00m  -\u001b[34m0x24\u001b[39;49;00m(\u001b[31m%rbp\u001b[39;49;00m),\u001b[31m%xmm0\u001b[39;49;00m\n",
      "  47:\t\u001b[34m8b 45 f8 \u001b[39;49;00m            \t\u001b[32mmov\u001b[39;49;00m    -\u001b[34m0x8\u001b[39;49;00m(\u001b[31m%rbp\u001b[39;49;00m),\u001b[31m%eax\u001b[39;49;00m\n",
      "  4a:\t\u001b[34m48 98 \u001b[39;49;00m               \t\u001b[32mcltq\u001b[39;49;00m   \n",
      "  4c:\t\u001b[34m48 8d 14 85 00 00 00 \u001b[39;49;00m\t\u001b[32mlea\u001b[39;49;00m    \u001b[34m0x0\u001b[39;49;00m(,\u001b[31m%rax\u001b[39;49;00m,\u001b[34m4\u001b[39;49;00m),\u001b[31m%rdx\u001b[39;49;00m\n",
      "  53:\t\u001b[34m00 \u001b[39;49;00m\n",
      "  54:\t\u001b[34m48 8b 45 e0 \u001b[39;49;00m         \t\u001b[32mmov\u001b[39;49;00m    -\u001b[34m0x20\u001b[39;49;00m(\u001b[31m%rbp\u001b[39;49;00m),\u001b[31m%rax\u001b[39;49;00m\n",
      "  58:\t\u001b[34m48 01 d0 \u001b[39;49;00m            \t\u001b[32madd\u001b[39;49;00m    \u001b[31m%rdx\u001b[39;49;00m,\u001b[31m%rax\u001b[39;49;00m\n",
      "  5b:\t\u001b[34mf3 0f 58 45 d8 \u001b[39;49;00m      \t\u001b[32maddss\u001b[39;49;00m  -\u001b[34m0x28\u001b[39;49;00m(\u001b[31m%rbp\u001b[39;49;00m),\u001b[31m%xmm0\u001b[39;49;00m\n",
      "  60:\t\u001b[34mf3 0f 11 00 \u001b[39;49;00m         \t\u001b[32mmovss\u001b[39;49;00m  \u001b[31m%xmm0\u001b[39;49;00m,(\u001b[31m%rax\u001b[39;49;00m)\n",
      "    \u001b[34mfor\u001b[39;49;00m (\u001b[36mint\u001b[39;49;00m j = \u001b[34m0\u001b[39;49;00m; j < T; j++) {\n",
      "  64:\t\u001b[34m83 45 fc 01 \u001b[39;49;00m         \t\u001b[32maddl\u001b[39;49;00m   \u001b[31m$0x1\u001b[39;49;00m,-\u001b[34m0x4\u001b[39;49;00m(\u001b[31m%rbp\u001b[39;49;00m)\n",
      "  68:\t\u001b[34m8b 45 fc \u001b[39;49;00m            \t\u001b[32mmov\u001b[39;49;00m    -\u001b[34m0x4\u001b[39;49;00m(\u001b[31m%rbp\u001b[39;49;00m),\u001b[31m%eax\u001b[39;49;00m\n",
      "  6b:\t\u001b[34m3b 45 e8 \u001b[39;49;00m            \t\u001b[32mcmp\u001b[39;49;00m    -\u001b[34m0x18\u001b[39;49;00m(\u001b[31m%rbp\u001b[39;49;00m),\u001b[31m%eax\u001b[39;49;00m\n",
      "  6e:\t\u001b[34m7c ba \u001b[39;49;00m               \t\u001b[32mjl\u001b[39;49;00m     \u001b[34m2a\u001b[39;49;00m <\u001b[31mfma_loop_host\u001b[39;49;00m+\u001b[34m0x2a\u001b[39;49;00m>\n",
      "  \u001b[34mfor\u001b[39;49;00m (\u001b[36mint\u001b[39;49;00m i = \u001b[34m0\u001b[39;49;00m; i < N; i++) {\n",
      "  70:\t\u001b[34m83 45 f8 01 \u001b[39;49;00m         \t\u001b[32maddl\u001b[39;49;00m   \u001b[31m$0x1\u001b[39;49;00m,-\u001b[34m0x8\u001b[39;49;00m(\u001b[31m%rbp\u001b[39;49;00m)\n",
      "  74:\t\u001b[34m8b 45 f8 \u001b[39;49;00m            \t\u001b[32mmov\u001b[39;49;00m    -\u001b[34m0x8\u001b[39;49;00m(\u001b[31m%rbp\u001b[39;49;00m),\u001b[31m%eax\u001b[39;49;00m\n",
      "  77:\t\u001b[34m3b 45 ec \u001b[39;49;00m            \t\u001b[32mcmp\u001b[39;49;00m    -\u001b[34m0x14\u001b[39;49;00m(\u001b[31m%rbp\u001b[39;49;00m),\u001b[31m%eax\u001b[39;49;00m\n",
      "  7a:\t\u001b[34m7c a5 \u001b[39;49;00m               \t\u001b[32mjl\u001b[39;49;00m     \u001b[34m21\u001b[39;49;00m <\u001b[31mfma_loop_host\u001b[39;49;00m+\u001b[34m0x21\u001b[39;49;00m>\n",
      "    }\n",
      "  }\n",
      "}\n",
      "  7c:\t\u001b[34m90 \u001b[39;49;00m                  \t\u001b[32mnop\u001b[39;49;00m\n",
      "  7d:\t\u001b[34m5d \u001b[39;49;00m                  \t\u001b[32mpop\u001b[39;49;00m    \u001b[31m%rbp\u001b[39;49;00m\n",
      "  7e:\t\u001b[34mc3 \u001b[39;49;00m                  \t\u001b[32mretq\u001b[39;49;00m   \n"
     ]
    }
   ],
   "source": [
    "objdump -Sd fma_loop_host.o | pygmentize -l c-objdump"
   ]
  },
  {
   "cell_type": "markdown",
   "metadata": {},
   "source": [
    "(Note that, as illegible as this is, it would be much worse if we didn't have source code interspersed with instructions.  You should always compile C code with `-g` and CUDA with `-G` for this reason and others.)\n",
    "\n",
    "For our purposes, this assembly code has three types of instructions:\n",
    "\n",
    "- Instructions that take **registers** as inputs (those things that are addressed like `%rax` and `%rbp`) and\n",
    "  write their outputs over the locations of their inputs.  Examples are floating point operations like `mulss` (multiply two single precision numbers together), integer operations like `addl` (add two 32-bit integers), and logical operations like `cmp` (determine if one integer is less than another and write the output to a special register).\n",
    "\n",
    "  * In hardware, registers are data locations in a register file: the storage closest to the execution units.\n",
    "    Register space is quite dear, so to reflect that, most instruction sets have a limited number of registers (see\n",
    "    e.g. the wikipedia page for the [AVX512](https://en.wikipedia.org/wiki/AVX-512#Extended_registers) instruction \n",
    "    set.).  When a thread has too many computations to keep track of, data that would otherwise be stored in a register is *spilled* to memory, which slows things down.  I mention all of this just to say that one things compilers are trying to do is figure out how to squeeze your complex instructions into the limited scratchpad space provided by the registers.\n",
    "    \n",
    "- Instructions that load and store data from memory like `mov`: we're not going to talk about open can of worms today.\n",
    "\n",
    "- Branching instructions that control the flow of instructions like `jl` (jump to a given code location based on the outcome of a comparison)"
   ]
  },
  {
   "cell_type": "markdown",
   "metadata": {},
   "source": [
    "Again, for our simple purposes today, a **thread** is:\n",
    "\n",
    "- a stream of instructions, with\n",
    "- a limited set of registers as a workspace for partial computations"
   ]
  },
  {
   "cell_type": "markdown",
   "metadata": {},
   "source": [
    "### How a thread is executed\n",
    "\n",
    "(This is a simplification of the [classic RISC pipeline](https://en.wikipedia.org/wiki/Classic_RISC_pipeline))\n",
    "\n",
    "1. An instruction like `add    %rdx,%rax` is:\n",
    "\n",
    "  1. *fetched* from the instruction queue, \n",
    "  2. *decoded* (it's operation and register inputs / outputs are identified), \n",
    "  3. **executed** (the part we care about), and\n",
    "  4. *written back* to registers\n",
    "  \n",
    "2. Move to the next instruction and repeat"
   ]
  },
  {
   "cell_type": "markdown",
   "metadata": {},
   "source": [
    "### Pipelining\n",
    "\n",
    "If a *cycle* is the smallest unit of time of a processor, and an instruction has multiple steps (each step takes a cycle), does that means that an instruction takes multiple cycles?\n",
    "\n",
    "Yes!  Let's say $k$ cycles.\n",
    "\n",
    "Does that mean that a processor takes $kN$ cycles to complete $N$ instructions?\n",
    "\n",
    "No! Instructions are **Pipelined:**\n",
    "\n",
    "`(TODO: Whiteboard)`\n",
    "\n",
    "The key thing to understand about pipelined operations:\n",
    "\n",
    "**The results of an operation can't be inputs to another operation until they exit\n",
    "the pipeline.**\n",
    "\n",
    "Any cycle of a pipeline when there isn't a new input is a *bubble*.\n",
    "\n",
    "The *efficiency* (work / cycle) of your pipelined algorithm is the *fraction of non-bubble cycles*.\n",
    "\n",
    "**A fully efficient pipelined algorithm has at least $k$ concurrent indepent operations at any point in time, where $k$ is the depth of the pipeline**"
   ]
  },
  {
   "cell_type": "markdown",
   "metadata": {},
   "source": [
    "(I think that the way that many diagrams show pipelined instructions (time axis horizontal, data axis vertical, instructions labeled) is not helpful, because the \"pipe\" in the pipeline is always moving, and because the diagram gets larger in both dimensions as time goes on.  I prefer to have *instructions* on the vertical axis and *data* labeled on the diagram, because that way the diagram only grows on one axis, and each column looks like a time slice of the pipeline)\n",
    "\n",
    "`(TODO: Whiteboard)`"
   ]
  },
  {
   "cell_type": "markdown",
   "metadata": {},
   "source": [
    "### Pipelines and branching\n",
    "\n",
    "Even in our simple program, we saw that my nice clean breakdown of register-register instructions and memory instructions wasn't respected: some instructions like `mulss  -0x24(%rbp),%xmm0` combine a memory access\n",
    "(`-0x24(%rbp)` accesses a memory location stored in `%rbp`, offset by a certain amount).\n",
    "\n",
    "More complex instructions require more decoding: the pipeline of operations before **execute** is quite long on a modern CPU.\n",
    "\n",
    "`(TODO: Whiteboard)`\n",
    "\n",
    "That is why branching instructions are hard to combine with pipelined execution.  We don't know why instruction\n",
    "should go into the pipeline, it depends on the output of a computation like a comparison.  The CPU could:\n",
    "\n",
    "- Hold up everything to wait until it is known which branch to take (always stall the pipeline, bad)\n",
    "- Try to *predict* which branch will be taken an keep feeding the pipeline with that branch (bad when there is a *misprediction*)\n",
    "\n",
    "Branch prediction is a complicated, sophisticated thing on modern CPUs.  In your programming, you should assume the following:\n",
    "\n",
    "- Computers are good are recognizing patterns: there is a branch in every loop of a for loop, but if you keep looping out, it will eventually start predicting that is the branch to take, and a branch will be a neglible part of the execution time.  For loops with known bounds can also be **unrolled** meaning copy-pasted the right number of times with no branching at all.\n",
    "\n",
    "```C\n",
    "for (int i = 0; i < N; i++) { /* if N = 10000000000, branch prediction will almost always be right */\n",
    "    /* ... */\n",
    "}\n",
    "```\n",
    "\n",
    "```C\n",
    "for (int  i = 0; i < 8; i++) {\n",
    "  /* If the bound is known at compile time, the loop can be unrolled with no branching */\n",
    "  /* ... */\n",
    "}\n",
    "```\n",
    "\n",
    "```C\n",
    "/* You can give the compiler hints about how you want to break up a loop in to unrolled sections,\n",
    "   reducing the number of branches */\n",
    "#pramga unroll(8)\n",
    "for (int i = 0; i < N; i++) {\n",
    "    /* ... */\n",
    "}\n",
    "```\n",
    "\n",
    "- If your branching has no patterns, then you should expect lots of branch misprediction: the instruction pipeline \n",
    "  has to be cleared out, leading to a stall in your code *proportional in length to the pipeline depth* (~10-29 cycles)\n",
    "  \n",
    "- Branch misprediction is the kind of hardware event that can be counted by a performance counter like `perf`\n",
    "\n",
    "`(TODO: perf demonstration)`"
   ]
  },
  {
   "cell_type": "code",
   "execution_count": null,
   "metadata": {},
   "outputs": [],
   "source": [
    "cd $CSE6230_DIR/assignments/first-week-flops\n",
    "make run_fma_prof PERF=\"perf stat -v\""
   ]
  },
  {
   "cell_type": "markdown",
   "metadata": {},
   "source": [
    "### Executing instructions\n",
    "\n",
    "Like I said, the depth of the pipeline before and after execution really only affects us when there is branching.  Let's talk about *execute*:\n",
    "\n",
    "- Different types of instructions are executed on different *functional units*:\n",
    "\n",
    "  - *ALU*: arithmetic and logic unit\n",
    "  - *FPU*: floating point unit\n",
    "  - etc.\n",
    "  \n",
    "See, e.g., the [Kaby Lake](https://en.wikichip.org/wiki/intel/microarchitectures/kaby_lake) diagram from Wikichip that we say in the first lecture.  This is what the cartoon at the top of the lecture is supposed to be a simplification of.\n"
   ]
  },
  {
   "cell_type": "markdown",
   "metadata": {},
   "source": [
    "### Superscalarity\n",
    "\n",
    "There are multiple functional units in a processor.  In the pipeline diagrams we've seen so far, there is only one `execute` instruction happening per cycle.  That would mean that only one functional units is called on per cycle, leaving the others idle.  Is that a waste of resources?\n",
    "\n",
    "It is, the diagrams are wrong! Modern CPUS are **superscalar:** there are multiple instruction pipelines that can happen at once.\n",
    "\n",
    "`(TODO: Whiteboard diagram)`"
   ]
  },
  {
   "cell_type": "markdown",
   "metadata": {},
   "source": [
    "### How can we exploit superscalarity?\n",
    "\n",
    "- Some combination of a smart **scheduler,** which is able to\n",
    "  1. Look ahead several instructions,\n",
    "  2. Identify *independent* operations, and\n",
    "  3. Reorder for concurrent independence\n",
    "  \n",
    "- And a smart **compiler**, which\n",
    "  1. Knows the functional units that are available\n",
    "  2. Knows the amount of register space available and the superscalar factor, and\n",
    "  3. Tries to reorder and change which registers are used to solve the\n",
    "     optimal scheduling problem\n",
    "     \n",
    "In almost all cases, the compiler is better than you are at this: don't try to out think it.\n",
    "\n",
    "If you think the compiler is getting it wrong:\n",
    "\n",
    "- Use the decompiler to see what it's doing\n",
    "- Use *optimization reports* (like Intel `-qopt-report=5`) to ask the compiler to tell you what it's doing\n",
    " "
   ]
  },
  {
   "cell_type": "markdown",
   "metadata": {},
   "source": [
    "### We can also exploit superscalarity with multiple threads\n",
    "\n",
    "When one thread has a pipeline stall, another can be issue instructions.\n",
    "\n",
    "- If there is hardware support for multiple threads, that means they can both have their registers in the register file at the same time, and the scheduler can switch between them.  If there is OS support for multiple threads, that means the OS switches which threads have their registers in the processor at a given time.  We can talk more about this another day.\n"
   ]
  },
  {
   "cell_type": "markdown",
   "metadata": {},
   "source": [
    "### Let's see how well the compiler optimizes a simple loop\n",
    "\n",
    "- Pass `-xHost` for compiling to your current chip with `icc`"
   ]
  },
  {
   "cell_type": "code",
   "execution_count": 27,
   "metadata": {},
   "outputs": [
    {
     "name": "stdout",
     "output_type": "stream",
     "text": [
      "\u001b[36m#\u001b[39;49;00m\u001b[36minclude\u001b[39;49;00m \u001b[37m\"fma_host.h\"\u001b[39;49;00m\u001b[36m\u001b[39;49;00m\n",
      "\n",
      "\u001b[37m/* fma_loop: Fused Multiply Add loop\u001b[39;49;00m\n",
      "\u001b[37m *           -     -        -\u001b[39;49;00m\n",
      "\u001b[37m *\u001b[39;49;00m\n",
      "\u001b[37m * a[:] = a[:] * b + c, T times\u001b[39;49;00m\n",
      "\u001b[37m *\u001b[39;49;00m\n",
      "\u001b[37m * Inputs:\u001b[39;49;00m\n",
      "\u001b[37m * N : the size of the array\u001b[39;49;00m\n",
      "\u001b[37m * T : the number of loops\u001b[39;49;00m\n",
      "\u001b[37m * b : the multiplier\u001b[39;49;00m\n",
      "\u001b[37m * c : the shift\u001b[39;49;00m\n",
      "\u001b[37m *\u001b[39;49;00m\n",
      "\u001b[37m * Input-Outputs:\u001b[39;49;00m\n",
      "\u001b[37m * a : the array\u001b[39;49;00m\n",
      "\u001b[37m */\u001b[39;49;00m\n",
      "\u001b[36mvoid\u001b[39;49;00m\n",
      "\u001b[32mfma_loop_short\u001b[39;49;00m (\u001b[36mint\u001b[39;49;00m N, \u001b[36mint\u001b[39;49;00m T, \u001b[36mfloat\u001b[39;49;00m *a, \u001b[36mfloat\u001b[39;49;00m b, \u001b[36mfloat\u001b[39;49;00m c)\n",
      "{\n",
      "  \u001b[34mfor\u001b[39;49;00m (\u001b[36mint\u001b[39;49;00m i = \u001b[34m0\u001b[39;49;00m; i < N; i++) {\n",
      "    a[i] = a[i] * b + c;\n",
      "  }\n",
      "}\n"
     ]
    }
   ],
   "source": [
    "cd $CSE6230_DIR/assignments/first-week-flops\n",
    "cat fma_loop_short.c | pygmentize\n",
    "cc -g -c -o fma_loop_short.o fma_loop_short.c -O3 -march=\"broadwell\""
   ]
  },
  {
   "cell_type": "code",
   "execution_count": 28,
   "metadata": {},
   "outputs": [
    {
     "name": "stdout",
     "output_type": "stream",
     "text": [
      "fma_loop_short.o:     file format \u001b[33melf64-x86-64\u001b[39;49;00m\n",
      "\n",
      "\n",
      "Disassembly of section .text:\n",
      "\n",
      "\u001b[34m0000000000000000\u001b[39;49;00m <\u001b[32mfma_loop_short\u001b[39;49;00m>:\n",
      " * a : the array\n",
      " \u001b[04m\u001b[31;01m*/\u001b[39;49;00m\n",
      "\u001b[36mvoid\u001b[39;49;00m\n",
      "fma_loop_short (\u001b[36mint\u001b[39;49;00m N, \u001b[36mint\u001b[39;49;00m T, \u001b[36mfloat\u001b[39;49;00m *a, \u001b[36mfloat\u001b[39;49;00m b, \u001b[36mfloat\u001b[39;49;00m c)\n",
      "{\n",
      "  \u001b[34mfor\u001b[39;49;00m (\u001b[36mint\u001b[39;49;00m i = \u001b[34m0\u001b[39;49;00m; i < N; i++) {\n",
      "   0:\t\u001b[34m85 ff \u001b[39;49;00m               \t\u001b[32mtest\u001b[39;49;00m   \u001b[31m%edi\u001b[39;49;00m,\u001b[31m%edi\u001b[39;49;00m\n",
      "   2:\t\u001b[34m0f 8e a7 02 00 00 \u001b[39;49;00m   \t\u001b[32mjle\u001b[39;49;00m    \u001b[34m2af\u001b[39;49;00m <\u001b[31mfma_loop_short\u001b[39;49;00m+\u001b[34m0x2af\u001b[39;49;00m>\n",
      "   8:\t\u001b[34m48 89 d0 \u001b[39;49;00m            \t\u001b[32mmov\u001b[39;49;00m    \u001b[31m%rdx\u001b[39;49;00m,\u001b[31m%rax\u001b[39;49;00m\n",
      "   b:\t\u001b[34m8d 77 ff \u001b[39;49;00m            \t\u001b[32mlea\u001b[39;49;00m    -\u001b[34m0x1\u001b[39;49;00m(\u001b[31m%rdi\u001b[39;49;00m),\u001b[31m%esi\u001b[39;49;00m\n",
      "   e:\t\u001b[34m48 c1 e8 02 \u001b[39;49;00m         \t\u001b[32mshr\u001b[39;49;00m    \u001b[31m$0x2\u001b[39;49;00m,\u001b[31m%rax\u001b[39;49;00m\n",
      "  12:\t\u001b[34m48 f7 d8 \u001b[39;49;00m            \t\u001b[32mneg\u001b[39;49;00m    \u001b[31m%rax\u001b[39;49;00m\n",
      "  15:\t\u001b[34m83 e0 07 \u001b[39;49;00m            \t\u001b[32mand\u001b[39;49;00m    \u001b[31m$0x7\u001b[39;49;00m,\u001b[31m%eax\u001b[39;49;00m\n",
      "  18:\t\u001b[34m8d 48 07 \u001b[39;49;00m            \t\u001b[32mlea\u001b[39;49;00m    \u001b[34m0x7\u001b[39;49;00m(\u001b[31m%rax\u001b[39;49;00m),\u001b[31m%ecx\u001b[39;49;00m\n",
      "  1b:\t\u001b[34m39 ce \u001b[39;49;00m               \t\u001b[32mcmp\u001b[39;49;00m    \u001b[31m%ecx\u001b[39;49;00m,\u001b[31m%esi\u001b[39;49;00m\n",
      "  1d:\t\u001b[34m0f 82 bd 02 00 00 \u001b[39;49;00m   \t\u001b[32mjb\u001b[39;49;00m     \u001b[34m2e0\u001b[39;49;00m <\u001b[31mfma_loop_short\u001b[39;49;00m+\u001b[34m0x2e0\u001b[39;49;00m>\n",
      "  23:\t\u001b[34m85 c0 \u001b[39;49;00m               \t\u001b[32mtest\u001b[39;49;00m   \u001b[31m%eax\u001b[39;49;00m,\u001b[31m%eax\u001b[39;49;00m\n",
      "  25:\t\u001b[34m0f 84 ad 02 00 00 \u001b[39;49;00m   \t\u001b[32mje\u001b[39;49;00m     \u001b[34m2d8\u001b[39;49;00m <\u001b[31mfma_loop_short\u001b[39;49;00m+\u001b[34m0x2d8\u001b[39;49;00m>\n",
      "    a[i] = a[i] * b + c;\n",
      "  2b:\t\u001b[34mc5 f8 28 d0 \u001b[39;49;00m         \t\u001b[32mvmovaps\u001b[39;49;00m \u001b[31m%xmm0\u001b[39;49;00m,\u001b[31m%xmm2\u001b[39;49;00m\n",
      "  2f:\t\u001b[34mc4 e2 71 99 12 \u001b[39;49;00m      \t\u001b[32mvfmadd132ss\u001b[39;49;00m (\u001b[31m%rdx\u001b[39;49;00m),\u001b[31m%xmm1\u001b[39;49;00m,\u001b[31m%xmm2\u001b[39;49;00m\n",
      "  34:\t\u001b[34mc5 fa 11 12 \u001b[39;49;00m         \t\u001b[32mvmovss\u001b[39;49;00m \u001b[31m%xmm2\u001b[39;49;00m,(\u001b[31m%rdx\u001b[39;49;00m)\n",
      "  38:\t\u001b[34m83 f8 01 \u001b[39;49;00m            \t\u001b[32mcmp\u001b[39;49;00m    \u001b[31m$0x1\u001b[39;49;00m,\u001b[31m%eax\u001b[39;49;00m\n",
      "  3b:\t\u001b[34m0f 84 7f 02 00 00 \u001b[39;49;00m   \t\u001b[32mje\u001b[39;49;00m     \u001b[34m2c0\u001b[39;49;00m <\u001b[31mfma_loop_short\u001b[39;49;00m+\u001b[34m0x2c0\u001b[39;49;00m>\n",
      "  41:\t\u001b[34mc5 f8 28 d0 \u001b[39;49;00m         \t\u001b[32mvmovaps\u001b[39;49;00m \u001b[31m%xmm0\u001b[39;49;00m,\u001b[31m%xmm2\u001b[39;49;00m\n",
      "  45:\t\u001b[34mc4 e2 71 99 52 04 \u001b[39;49;00m   \t\u001b[32mvfmadd132ss\u001b[39;49;00m \u001b[34m0x4\u001b[39;49;00m(\u001b[31m%rdx\u001b[39;49;00m),\u001b[31m%xmm1\u001b[39;49;00m,\u001b[31m%xmm2\u001b[39;49;00m\n",
      "  4b:\t\u001b[34mc5 fa 11 52 04 \u001b[39;49;00m      \t\u001b[32mvmovss\u001b[39;49;00m \u001b[31m%xmm2\u001b[39;49;00m,\u001b[34m0x4\u001b[39;49;00m(\u001b[31m%rdx\u001b[39;49;00m)\n",
      "  50:\t\u001b[34m83 f8 02 \u001b[39;49;00m            \t\u001b[32mcmp\u001b[39;49;00m    \u001b[31m$0x2\u001b[39;49;00m,\u001b[31m%eax\u001b[39;49;00m\n",
      "  53:\t\u001b[34m0f 84 57 02 00 00 \u001b[39;49;00m   \t\u001b[32mje\u001b[39;49;00m     \u001b[34m2b0\u001b[39;49;00m <\u001b[31mfma_loop_short\u001b[39;49;00m+\u001b[34m0x2b0\u001b[39;49;00m>\n",
      "  59:\t\u001b[34mc5 f8 28 d0 \u001b[39;49;00m         \t\u001b[32mvmovaps\u001b[39;49;00m \u001b[31m%xmm0\u001b[39;49;00m,\u001b[31m%xmm2\u001b[39;49;00m\n",
      "  5d:\t\u001b[34mc4 e2 71 99 52 08 \u001b[39;49;00m   \t\u001b[32mvfmadd132ss\u001b[39;49;00m \u001b[34m0x8\u001b[39;49;00m(\u001b[31m%rdx\u001b[39;49;00m),\u001b[31m%xmm1\u001b[39;49;00m,\u001b[31m%xmm2\u001b[39;49;00m\n",
      "  63:\t\u001b[34mc5 fa 11 52 08 \u001b[39;49;00m      \t\u001b[32mvmovss\u001b[39;49;00m \u001b[31m%xmm2\u001b[39;49;00m,\u001b[34m0x8\u001b[39;49;00m(\u001b[31m%rdx\u001b[39;49;00m)\n",
      "  68:\t\u001b[34m83 f8 03 \u001b[39;49;00m            \t\u001b[32mcmp\u001b[39;49;00m    \u001b[31m$0x3\u001b[39;49;00m,\u001b[31m%eax\u001b[39;49;00m\n",
      "  6b:\t\u001b[34m0f 84 7f 02 00 00 \u001b[39;49;00m   \t\u001b[32mje\u001b[39;49;00m     \u001b[34m2f0\u001b[39;49;00m <\u001b[31mfma_loop_short\u001b[39;49;00m+\u001b[34m0x2f0\u001b[39;49;00m>\n",
      "  71:\t\u001b[34mc5 f8 28 d0 \u001b[39;49;00m         \t\u001b[32mvmovaps\u001b[39;49;00m \u001b[31m%xmm0\u001b[39;49;00m,\u001b[31m%xmm2\u001b[39;49;00m\n",
      "  75:\t\u001b[34mc4 e2 71 99 52 0c \u001b[39;49;00m   \t\u001b[32mvfmadd132ss\u001b[39;49;00m \u001b[34m0xc\u001b[39;49;00m(\u001b[31m%rdx\u001b[39;49;00m),\u001b[31m%xmm1\u001b[39;49;00m,\u001b[31m%xmm2\u001b[39;49;00m\n",
      "  7b:\t\u001b[34mc5 fa 11 52 0c \u001b[39;49;00m      \t\u001b[32mvmovss\u001b[39;49;00m \u001b[31m%xmm2\u001b[39;49;00m,\u001b[34m0xc\u001b[39;49;00m(\u001b[31m%rdx\u001b[39;49;00m)\n",
      "  80:\t\u001b[34m83 f8 04 \u001b[39;49;00m            \t\u001b[32mcmp\u001b[39;49;00m    \u001b[31m$0x4\u001b[39;49;00m,\u001b[31m%eax\u001b[39;49;00m\n",
      "  83:\t\u001b[34m0f 84 77 02 00 00 \u001b[39;49;00m   \t\u001b[32mje\u001b[39;49;00m     \u001b[34m300\u001b[39;49;00m <\u001b[31mfma_loop_short\u001b[39;49;00m+\u001b[34m0x300\u001b[39;49;00m>\n",
      "  89:\t\u001b[34mc5 f8 28 d0 \u001b[39;49;00m         \t\u001b[32mvmovaps\u001b[39;49;00m \u001b[31m%xmm0\u001b[39;49;00m,\u001b[31m%xmm2\u001b[39;49;00m\n",
      "  8d:\t\u001b[34mc4 e2 71 99 52 10 \u001b[39;49;00m   \t\u001b[32mvfmadd132ss\u001b[39;49;00m \u001b[34m0x10\u001b[39;49;00m(\u001b[31m%rdx\u001b[39;49;00m),\u001b[31m%xmm1\u001b[39;49;00m,\u001b[31m%xmm2\u001b[39;49;00m\n",
      "  93:\t\u001b[34mc5 fa 11 52 10 \u001b[39;49;00m      \t\u001b[32mvmovss\u001b[39;49;00m \u001b[31m%xmm2\u001b[39;49;00m,\u001b[34m0x10\u001b[39;49;00m(\u001b[31m%rdx\u001b[39;49;00m)\n",
      "  98:\t\u001b[34m83 f8 05 \u001b[39;49;00m            \t\u001b[32mcmp\u001b[39;49;00m    \u001b[31m$0x5\u001b[39;49;00m,\u001b[31m%eax\u001b[39;49;00m\n",
      "  9b:\t\u001b[34m0f 84 6f 02 00 00 \u001b[39;49;00m   \t\u001b[32mje\u001b[39;49;00m     \u001b[34m310\u001b[39;49;00m <\u001b[31mfma_loop_short\u001b[39;49;00m+\u001b[34m0x310\u001b[39;49;00m>\n",
      "  a1:\t\u001b[34mc5 f8 28 d0 \u001b[39;49;00m         \t\u001b[32mvmovaps\u001b[39;49;00m \u001b[31m%xmm0\u001b[39;49;00m,\u001b[31m%xmm2\u001b[39;49;00m\n",
      "  a5:\t\u001b[34mc4 e2 71 99 52 14 \u001b[39;49;00m   \t\u001b[32mvfmadd132ss\u001b[39;49;00m \u001b[34m0x14\u001b[39;49;00m(\u001b[31m%rdx\u001b[39;49;00m),\u001b[31m%xmm1\u001b[39;49;00m,\u001b[31m%xmm2\u001b[39;49;00m\n",
      "  ab:\t\u001b[34mc5 fa 11 52 14 \u001b[39;49;00m      \t\u001b[32mvmovss\u001b[39;49;00m \u001b[31m%xmm2\u001b[39;49;00m,\u001b[34m0x14\u001b[39;49;00m(\u001b[31m%rdx\u001b[39;49;00m)\n",
      "  b0:\t\u001b[34m83 f8 07 \u001b[39;49;00m            \t\u001b[32mcmp\u001b[39;49;00m    \u001b[31m$0x7\u001b[39;49;00m,\u001b[31m%eax\u001b[39;49;00m\n",
      "  b3:\t\u001b[34m0f 85 62 02 00 00 \u001b[39;49;00m   \t\u001b[32mjne\u001b[39;49;00m    \u001b[34m31b\u001b[39;49;00m <\u001b[31mfma_loop_short\u001b[39;49;00m+\u001b[34m0x31b\u001b[39;49;00m>\n",
      "  b9:\t\u001b[34mc5 f8 28 d0 \u001b[39;49;00m         \t\u001b[32mvmovaps\u001b[39;49;00m \u001b[31m%xmm0\u001b[39;49;00m,\u001b[31m%xmm2\u001b[39;49;00m\n",
      "  bd:\t\u001b[34mc4 e2 71 99 52 18 \u001b[39;49;00m   \t\u001b[32mvfmadd132ss\u001b[39;49;00m \u001b[34m0x18\u001b[39;49;00m(\u001b[31m%rdx\u001b[39;49;00m),\u001b[31m%xmm1\u001b[39;49;00m,\u001b[31m%xmm2\u001b[39;49;00m\n",
      "  \u001b[34mfor\u001b[39;49;00m (\u001b[36mint\u001b[39;49;00m i = \u001b[34m0\u001b[39;49;00m; i < N; i++) {\n",
      "  c3:\t\u001b[34m41 ba 07 00 00 00 \u001b[39;49;00m   \t\u001b[32mmov\u001b[39;49;00m    \u001b[31m$0x7\u001b[39;49;00m,\u001b[31m%r10d\u001b[39;49;00m\n",
      "    a[i] = a[i] * b + c;\n",
      "  c9:\t\u001b[34mc5 fa 11 52 18 \u001b[39;49;00m      \t\u001b[32mvmovss\u001b[39;49;00m \u001b[31m%xmm2\u001b[39;49;00m,\u001b[34m0x18\u001b[39;49;00m(\u001b[31m%rdx\u001b[39;49;00m)\n",
      "  ce:\t\u001b[34m41 89 f9 \u001b[39;49;00m            \t\u001b[32mmov\u001b[39;49;00m    \u001b[31m%edi\u001b[39;49;00m,\u001b[31m%r9d\u001b[39;49;00m\n",
      "  d1:\t\u001b[34m48 8d 34 82 \u001b[39;49;00m         \t\u001b[32mlea\u001b[39;49;00m    (\u001b[31m%rdx\u001b[39;49;00m,\u001b[31m%rax\u001b[39;49;00m,\u001b[34m4\u001b[39;49;00m),\u001b[31m%rsi\u001b[39;49;00m\n",
      "  d5:\t\u001b[34mc4 e2 7d 18 e0 \u001b[39;49;00m      \t\u001b[32mvbroadcastss\u001b[39;49;00m \u001b[31m%xmm0\u001b[39;49;00m,\u001b[31m%ymm4\u001b[39;49;00m\n",
      "  \u001b[34mfor\u001b[39;49;00m (\u001b[36mint\u001b[39;49;00m i = \u001b[34m0\u001b[39;49;00m; i < N; i++) {\n",
      "  da:\t\u001b[34m31 c9 \u001b[39;49;00m               \t\u001b[32mxor\u001b[39;49;00m    \u001b[31m%ecx\u001b[39;49;00m,\u001b[31m%ecx\u001b[39;49;00m\n",
      "  dc:\t\u001b[34m41 29 c1 \u001b[39;49;00m            \t\u001b[32msub\u001b[39;49;00m    \u001b[31m%eax\u001b[39;49;00m,\u001b[31m%r9d\u001b[39;49;00m\n",
      "  df:\t\u001b[34mc4 e2 7d 18 d9 \u001b[39;49;00m      \t\u001b[32mvbroadcastss\u001b[39;49;00m \u001b[31m%xmm1\u001b[39;49;00m,\u001b[31m%ymm3\u001b[39;49;00m\n",
      "  e4:\t\u001b[34m31 c0 \u001b[39;49;00m               \t\u001b[32mxor\u001b[39;49;00m    \u001b[31m%eax\u001b[39;49;00m,\u001b[31m%eax\u001b[39;49;00m\n",
      "  e6:\t\u001b[34m45 89 c8 \u001b[39;49;00m            \t\u001b[32mmov\u001b[39;49;00m    \u001b[31m%r9d\u001b[39;49;00m,\u001b[31m%r8d\u001b[39;49;00m\n",
      "  e9:\t\u001b[34m41 c1 e8 03 \u001b[39;49;00m         \t\u001b[32mshr\u001b[39;49;00m    \u001b[31m$0x3\u001b[39;49;00m,\u001b[31m%r8d\u001b[39;49;00m\n",
      "  ed:\t\u001b[34m0f 1f 00 \u001b[39;49;00m            \t\u001b[32mnopl\u001b[39;49;00m   (\u001b[31m%rax\u001b[39;49;00m)\n",
      "    a[i] = a[i] * b + c;\n",
      "  f0:\t\u001b[34mc5 fc 28 d4 \u001b[39;49;00m         \t\u001b[32mvmovaps\u001b[39;49;00m \u001b[31m%ymm4\u001b[39;49;00m,\u001b[31m%ymm2\u001b[39;49;00m\n",
      "  f4:\t\u001b[34mc4 e2 65 98 14 06 \u001b[39;49;00m   \t\u001b[32mvfmadd132ps\u001b[39;49;00m (\u001b[31m%rsi\u001b[39;49;00m,\u001b[31m%rax\u001b[39;49;00m,\u001b[34m1\u001b[39;49;00m),\u001b[31m%ymm3\u001b[39;49;00m,\u001b[31m%ymm2\u001b[39;49;00m\n",
      "  fa:\t\u001b[34m83 c1 01 \u001b[39;49;00m            \t\u001b[32madd\u001b[39;49;00m    \u001b[31m$0x1\u001b[39;49;00m,\u001b[31m%ecx\u001b[39;49;00m\n",
      "  fd:\t\u001b[34mc5 fc 29 14 06 \u001b[39;49;00m      \t\u001b[32mvmovaps\u001b[39;49;00m \u001b[31m%ymm2\u001b[39;49;00m,(\u001b[31m%rsi\u001b[39;49;00m,\u001b[31m%rax\u001b[39;49;00m,\u001b[34m1\u001b[39;49;00m)\n",
      " 102:\t\u001b[34m48 83 c0 20 \u001b[39;49;00m         \t\u001b[32madd\u001b[39;49;00m    \u001b[31m$0x20\u001b[39;49;00m,\u001b[31m%rax\u001b[39;49;00m\n"
     ]
    },
    {
     "name": "stdout",
     "output_type": "stream",
     "text": [
      " 106:\t\u001b[34m44 39 c1 \u001b[39;49;00m            \t\u001b[32mcmp\u001b[39;49;00m    \u001b[31m%r8d\u001b[39;49;00m,\u001b[31m%ecx\u001b[39;49;00m\n",
      " 109:\t\u001b[34m72 e5 \u001b[39;49;00m               \t\u001b[32mjb\u001b[39;49;00m     \u001b[34mf0\u001b[39;49;00m <\u001b[31mfma_loop_short\u001b[39;49;00m+\u001b[34m0xf0\u001b[39;49;00m>\n",
      " 10b:\t\u001b[34m44 89 c9 \u001b[39;49;00m            \t\u001b[32mmov\u001b[39;49;00m    \u001b[31m%r9d\u001b[39;49;00m,\u001b[31m%ecx\u001b[39;49;00m\n",
      " 10e:\t\u001b[34m83 e1 f8 \u001b[39;49;00m            \t\u001b[32mand\u001b[39;49;00m    \u001b[31m$0xfffffff8\u001b[39;49;00m,\u001b[31m%ecx\u001b[39;49;00m\n",
      " 111:\t\u001b[34m42 8d 04 11 \u001b[39;49;00m         \t\u001b[32mlea\u001b[39;49;00m    (\u001b[31m%rcx\u001b[39;49;00m,\u001b[31m%r10\u001b[39;49;00m,\u001b[34m1\u001b[39;49;00m),\u001b[31m%eax\u001b[39;49;00m\n",
      " 115:\t\u001b[34m41 39 c9 \u001b[39;49;00m            \t\u001b[32mcmp\u001b[39;49;00m    \u001b[31m%ecx\u001b[39;49;00m,\u001b[31m%r9d\u001b[39;49;00m\n",
      " 118:\t\u001b[34m0f 84 b2 01 00 00 \u001b[39;49;00m   \t\u001b[32mje\u001b[39;49;00m     \u001b[34m2d0\u001b[39;49;00m <\u001b[31mfma_loop_short\u001b[39;49;00m+\u001b[34m0x2d0\u001b[39;49;00m>\n",
      " 11e:\t\u001b[34mc5 f8 77 \u001b[39;49;00m            \t\u001b[32mvzeroupper\u001b[39;49;00m \n",
      " 121:\t\u001b[34m48 63 c8 \u001b[39;49;00m            \t\u001b[32mmovslq\u001b[39;49;00m \u001b[31m%eax\u001b[39;49;00m,\u001b[31m%rcx\u001b[39;49;00m\n",
      " 124:\t\u001b[34mc5 f8 28 d0 \u001b[39;49;00m         \t\u001b[32mvmovaps\u001b[39;49;00m \u001b[31m%xmm0\u001b[39;49;00m,\u001b[31m%xmm2\u001b[39;49;00m\n",
      " 128:\t\u001b[34m48 8d 0c 8a \u001b[39;49;00m         \t\u001b[32mlea\u001b[39;49;00m    (\u001b[31m%rdx\u001b[39;49;00m,\u001b[31m%rcx\u001b[39;49;00m,\u001b[34m4\u001b[39;49;00m),\u001b[31m%rcx\u001b[39;49;00m\n",
      " 12c:\t\u001b[34mc4 e2 71 99 11 \u001b[39;49;00m      \t\u001b[32mvfmadd132ss\u001b[39;49;00m (\u001b[31m%rcx\u001b[39;49;00m),\u001b[31m%xmm1\u001b[39;49;00m,\u001b[31m%xmm2\u001b[39;49;00m\n",
      " 131:\t\u001b[34mc5 fa 11 11 \u001b[39;49;00m         \t\u001b[32mvmovss\u001b[39;49;00m \u001b[31m%xmm2\u001b[39;49;00m,(\u001b[31m%rcx\u001b[39;49;00m)\n",
      "  \u001b[34mfor\u001b[39;49;00m (\u001b[36mint\u001b[39;49;00m i = \u001b[34m0\u001b[39;49;00m; i < N; i++) {\n",
      " 135:\t\u001b[34m8d 48 01 \u001b[39;49;00m            \t\u001b[32mlea\u001b[39;49;00m    \u001b[34m0x1\u001b[39;49;00m(\u001b[31m%rax\u001b[39;49;00m),\u001b[31m%ecx\u001b[39;49;00m\n",
      " 138:\t\u001b[34m39 cf \u001b[39;49;00m               \t\u001b[32mcmp\u001b[39;49;00m    \u001b[31m%ecx\u001b[39;49;00m,\u001b[31m%edi\u001b[39;49;00m\n",
      " 13a:\t\u001b[34m0f 8e 6f 01 00 00 \u001b[39;49;00m   \t\u001b[32mjle\u001b[39;49;00m    \u001b[34m2af\u001b[39;49;00m <\u001b[31mfma_loop_short\u001b[39;49;00m+\u001b[34m0x2af\u001b[39;49;00m>\n",
      "    a[i] = a[i] * b + c;\n",
      " 140:\t\u001b[34m48 63 c9 \u001b[39;49;00m            \t\u001b[32mmovslq\u001b[39;49;00m \u001b[31m%ecx\u001b[39;49;00m,\u001b[31m%rcx\u001b[39;49;00m\n",
      " 143:\t\u001b[34mc5 f8 28 d0 \u001b[39;49;00m         \t\u001b[32mvmovaps\u001b[39;49;00m \u001b[31m%xmm0\u001b[39;49;00m,\u001b[31m%xmm2\u001b[39;49;00m\n",
      " 147:\t\u001b[34m48 8d 0c 8a \u001b[39;49;00m         \t\u001b[32mlea\u001b[39;49;00m    (\u001b[31m%rdx\u001b[39;49;00m,\u001b[31m%rcx\u001b[39;49;00m,\u001b[34m4\u001b[39;49;00m),\u001b[31m%rcx\u001b[39;49;00m\n",
      " 14b:\t\u001b[34mc4 e2 71 99 11 \u001b[39;49;00m      \t\u001b[32mvfmadd132ss\u001b[39;49;00m (\u001b[31m%rcx\u001b[39;49;00m),\u001b[31m%xmm1\u001b[39;49;00m,\u001b[31m%xmm2\u001b[39;49;00m\n",
      " 150:\t\u001b[34mc5 fa 11 11 \u001b[39;49;00m         \t\u001b[32mvmovss\u001b[39;49;00m \u001b[31m%xmm2\u001b[39;49;00m,(\u001b[31m%rcx\u001b[39;49;00m)\n",
      "  \u001b[34mfor\u001b[39;49;00m (\u001b[36mint\u001b[39;49;00m i = \u001b[34m0\u001b[39;49;00m; i < N; i++) {\n",
      " 154:\t\u001b[34m8d 48 02 \u001b[39;49;00m            \t\u001b[32mlea\u001b[39;49;00m    \u001b[34m0x2\u001b[39;49;00m(\u001b[31m%rax\u001b[39;49;00m),\u001b[31m%ecx\u001b[39;49;00m\n",
      " 157:\t\u001b[34m39 cf \u001b[39;49;00m               \t\u001b[32mcmp\u001b[39;49;00m    \u001b[31m%ecx\u001b[39;49;00m,\u001b[31m%edi\u001b[39;49;00m\n",
      " 159:\t\u001b[34m0f 8e 50 01 00 00 \u001b[39;49;00m   \t\u001b[32mjle\u001b[39;49;00m    \u001b[34m2af\u001b[39;49;00m <\u001b[31mfma_loop_short\u001b[39;49;00m+\u001b[34m0x2af\u001b[39;49;00m>\n",
      "    a[i] = a[i] * b + c;\n",
      " 15f:\t\u001b[34m48 63 c9 \u001b[39;49;00m            \t\u001b[32mmovslq\u001b[39;49;00m \u001b[31m%ecx\u001b[39;49;00m,\u001b[31m%rcx\u001b[39;49;00m\n",
      " 162:\t\u001b[34mc5 f8 28 d0 \u001b[39;49;00m         \t\u001b[32mvmovaps\u001b[39;49;00m \u001b[31m%xmm0\u001b[39;49;00m,\u001b[31m%xmm2\u001b[39;49;00m\n",
      " 166:\t\u001b[34m48 8d 0c 8a \u001b[39;49;00m         \t\u001b[32mlea\u001b[39;49;00m    (\u001b[31m%rdx\u001b[39;49;00m,\u001b[31m%rcx\u001b[39;49;00m,\u001b[34m4\u001b[39;49;00m),\u001b[31m%rcx\u001b[39;49;00m\n",
      " 16a:\t\u001b[34mc4 e2 71 99 11 \u001b[39;49;00m      \t\u001b[32mvfmadd132ss\u001b[39;49;00m (\u001b[31m%rcx\u001b[39;49;00m),\u001b[31m%xmm1\u001b[39;49;00m,\u001b[31m%xmm2\u001b[39;49;00m\n",
      " 16f:\t\u001b[34mc5 fa 11 11 \u001b[39;49;00m         \t\u001b[32mvmovss\u001b[39;49;00m \u001b[31m%xmm2\u001b[39;49;00m,(\u001b[31m%rcx\u001b[39;49;00m)\n",
      "  \u001b[34mfor\u001b[39;49;00m (\u001b[36mint\u001b[39;49;00m i = \u001b[34m0\u001b[39;49;00m; i < N; i++) {\n",
      " 173:\t\u001b[34m8d 48 03 \u001b[39;49;00m            \t\u001b[32mlea\u001b[39;49;00m    \u001b[34m0x3\u001b[39;49;00m(\u001b[31m%rax\u001b[39;49;00m),\u001b[31m%ecx\u001b[39;49;00m\n",
      " 176:\t\u001b[34m39 cf \u001b[39;49;00m               \t\u001b[32mcmp\u001b[39;49;00m    \u001b[31m%ecx\u001b[39;49;00m,\u001b[31m%edi\u001b[39;49;00m\n",
      " 178:\t\u001b[34m0f 8e 31 01 00 00 \u001b[39;49;00m   \t\u001b[32mjle\u001b[39;49;00m    \u001b[34m2af\u001b[39;49;00m <\u001b[31mfma_loop_short\u001b[39;49;00m+\u001b[34m0x2af\u001b[39;49;00m>\n",
      "    a[i] = a[i] * b + c;\n",
      " 17e:\t\u001b[34m48 63 c9 \u001b[39;49;00m            \t\u001b[32mmovslq\u001b[39;49;00m \u001b[31m%ecx\u001b[39;49;00m,\u001b[31m%rcx\u001b[39;49;00m\n",
      " 181:\t\u001b[34mc5 f8 28 d0 \u001b[39;49;00m         \t\u001b[32mvmovaps\u001b[39;49;00m \u001b[31m%xmm0\u001b[39;49;00m,\u001b[31m%xmm2\u001b[39;49;00m\n",
      " 185:\t\u001b[34m48 8d 0c 8a \u001b[39;49;00m         \t\u001b[32mlea\u001b[39;49;00m    (\u001b[31m%rdx\u001b[39;49;00m,\u001b[31m%rcx\u001b[39;49;00m,\u001b[34m4\u001b[39;49;00m),\u001b[31m%rcx\u001b[39;49;00m\n",
      " 189:\t\u001b[34mc4 e2 71 99 11 \u001b[39;49;00m      \t\u001b[32mvfmadd132ss\u001b[39;49;00m (\u001b[31m%rcx\u001b[39;49;00m),\u001b[31m%xmm1\u001b[39;49;00m,\u001b[31m%xmm2\u001b[39;49;00m\n",
      " 18e:\t\u001b[34mc5 fa 11 11 \u001b[39;49;00m         \t\u001b[32mvmovss\u001b[39;49;00m \u001b[31m%xmm2\u001b[39;49;00m,(\u001b[31m%rcx\u001b[39;49;00m)\n",
      "  \u001b[34mfor\u001b[39;49;00m (\u001b[36mint\u001b[39;49;00m i = \u001b[34m0\u001b[39;49;00m; i < N; i++) {\n",
      " 192:\t\u001b[34m8d 48 04 \u001b[39;49;00m            \t\u001b[32mlea\u001b[39;49;00m    \u001b[34m0x4\u001b[39;49;00m(\u001b[31m%rax\u001b[39;49;00m),\u001b[31m%ecx\u001b[39;49;00m\n",
      " 195:\t\u001b[34m39 cf \u001b[39;49;00m               \t\u001b[32mcmp\u001b[39;49;00m    \u001b[31m%ecx\u001b[39;49;00m,\u001b[31m%edi\u001b[39;49;00m\n",
      " 197:\t\u001b[34m0f 8e 12 01 00 00 \u001b[39;49;00m   \t\u001b[32mjle\u001b[39;49;00m    \u001b[34m2af\u001b[39;49;00m <\u001b[31mfma_loop_short\u001b[39;49;00m+\u001b[34m0x2af\u001b[39;49;00m>\n",
      "    a[i] = a[i] * b + c;\n",
      " 19d:\t\u001b[34m48 63 c9 \u001b[39;49;00m            \t\u001b[32mmovslq\u001b[39;49;00m \u001b[31m%ecx\u001b[39;49;00m,\u001b[31m%rcx\u001b[39;49;00m\n",
      " 1a0:\t\u001b[34mc5 f8 28 d0 \u001b[39;49;00m         \t\u001b[32mvmovaps\u001b[39;49;00m \u001b[31m%xmm0\u001b[39;49;00m,\u001b[31m%xmm2\u001b[39;49;00m\n",
      " 1a4:\t\u001b[34m48 8d 0c 8a \u001b[39;49;00m         \t\u001b[32mlea\u001b[39;49;00m    (\u001b[31m%rdx\u001b[39;49;00m,\u001b[31m%rcx\u001b[39;49;00m,\u001b[34m4\u001b[39;49;00m),\u001b[31m%rcx\u001b[39;49;00m\n",
      " 1a8:\t\u001b[34mc4 e2 71 99 11 \u001b[39;49;00m      \t\u001b[32mvfmadd132ss\u001b[39;49;00m (\u001b[31m%rcx\u001b[39;49;00m),\u001b[31m%xmm1\u001b[39;49;00m,\u001b[31m%xmm2\u001b[39;49;00m\n",
      " 1ad:\t\u001b[34mc5 fa 11 11 \u001b[39;49;00m         \t\u001b[32mvmovss\u001b[39;49;00m \u001b[31m%xmm2\u001b[39;49;00m,(\u001b[31m%rcx\u001b[39;49;00m)\n",
      "  \u001b[34mfor\u001b[39;49;00m (\u001b[36mint\u001b[39;49;00m i = \u001b[34m0\u001b[39;49;00m; i < N; i++) {\n",
      " 1b1:\t\u001b[34m8d 48 05 \u001b[39;49;00m            \t\u001b[32mlea\u001b[39;49;00m    \u001b[34m0x5\u001b[39;49;00m(\u001b[31m%rax\u001b[39;49;00m),\u001b[31m%ecx\u001b[39;49;00m\n",
      " 1b4:\t\u001b[34m39 cf \u001b[39;49;00m               \t\u001b[32mcmp\u001b[39;49;00m    \u001b[31m%ecx\u001b[39;49;00m,\u001b[31m%edi\u001b[39;49;00m\n",
      " 1b6:\t\u001b[34m0f 8e f3 00 00 00 \u001b[39;49;00m   \t\u001b[32mjle\u001b[39;49;00m    \u001b[34m2af\u001b[39;49;00m <\u001b[31mfma_loop_short\u001b[39;49;00m+\u001b[34m0x2af\u001b[39;49;00m>\n",
      "    a[i] = a[i] * b + c;\n",
      " 1bc:\t\u001b[34m48 63 c9 \u001b[39;49;00m            \t\u001b[32mmovslq\u001b[39;49;00m \u001b[31m%ecx\u001b[39;49;00m,\u001b[31m%rcx\u001b[39;49;00m\n",
      " 1bf:\t\u001b[34mc5 f8 28 d0 \u001b[39;49;00m         \t\u001b[32mvmovaps\u001b[39;49;00m \u001b[31m%xmm0\u001b[39;49;00m,\u001b[31m%xmm2\u001b[39;49;00m\n",
      " 1c3:\t\u001b[34m48 8d 0c 8a \u001b[39;49;00m         \t\u001b[32mlea\u001b[39;49;00m    (\u001b[31m%rdx\u001b[39;49;00m,\u001b[31m%rcx\u001b[39;49;00m,\u001b[34m4\u001b[39;49;00m),\u001b[31m%rcx\u001b[39;49;00m\n",
      " 1c7:\t\u001b[34mc4 e2 71 99 11 \u001b[39;49;00m      \t\u001b[32mvfmadd132ss\u001b[39;49;00m (\u001b[31m%rcx\u001b[39;49;00m),\u001b[31m%xmm1\u001b[39;49;00m,\u001b[31m%xmm2\u001b[39;49;00m\n",
      " 1cc:\t\u001b[34mc5 fa 11 11 \u001b[39;49;00m         \t\u001b[32mvmovss\u001b[39;49;00m \u001b[31m%xmm2\u001b[39;49;00m,(\u001b[31m%rcx\u001b[39;49;00m)\n",
      "  \u001b[34mfor\u001b[39;49;00m (\u001b[36mint\u001b[39;49;00m i = \u001b[34m0\u001b[39;49;00m; i < N; i++) {\n",
      " 1d0:\t\u001b[34m8d 48 06 \u001b[39;49;00m            \t\u001b[32mlea\u001b[39;49;00m    \u001b[34m0x6\u001b[39;49;00m(\u001b[31m%rax\u001b[39;49;00m),\u001b[31m%ecx\u001b[39;49;00m\n",
      " 1d3:\t\u001b[34m39 cf \u001b[39;49;00m               \t\u001b[32mcmp\u001b[39;49;00m    \u001b[31m%ecx\u001b[39;49;00m,\u001b[31m%edi\u001b[39;49;00m\n",
      " 1d5:\t\u001b[34m0f 8e d4 00 00 00 \u001b[39;49;00m   \t\u001b[32mjle\u001b[39;49;00m    \u001b[34m2af\u001b[39;49;00m <\u001b[31mfma_loop_short\u001b[39;49;00m+\u001b[34m0x2af\u001b[39;49;00m>\n",
      "    a[i] = a[i] * b + c;\n",
      " 1db:\t\u001b[34m48 63 c9 \u001b[39;49;00m            \t\u001b[32mmovslq\u001b[39;49;00m \u001b[31m%ecx\u001b[39;49;00m,\u001b[31m%rcx\u001b[39;49;00m\n",
      " 1de:\t\u001b[34mc5 f8 28 d0 \u001b[39;49;00m         \t\u001b[32mvmovaps\u001b[39;49;00m \u001b[31m%xmm0\u001b[39;49;00m,\u001b[31m%xmm2\u001b[39;49;00m\n",
      " 1e2:\t\u001b[34m48 8d 0c 8a \u001b[39;49;00m         \t\u001b[32mlea\u001b[39;49;00m    (\u001b[31m%rdx\u001b[39;49;00m,\u001b[31m%rcx\u001b[39;49;00m,\u001b[34m4\u001b[39;49;00m),\u001b[31m%rcx\u001b[39;49;00m\n",
      " 1e6:\t\u001b[34mc4 e2 71 99 11 \u001b[39;49;00m      \t\u001b[32mvfmadd132ss\u001b[39;49;00m (\u001b[31m%rcx\u001b[39;49;00m),\u001b[31m%xmm1\u001b[39;49;00m,\u001b[31m%xmm2\u001b[39;49;00m\n",
      " 1eb:\t\u001b[34mc5 fa 11 11 \u001b[39;49;00m         \t\u001b[32mvmovss\u001b[39;49;00m \u001b[31m%xmm2\u001b[39;49;00m,(\u001b[31m%rcx\u001b[39;49;00m)\n"
     ]
    },
    {
     "name": "stdout",
     "output_type": "stream",
     "text": [
      "  \u001b[34mfor\u001b[39;49;00m (\u001b[36mint\u001b[39;49;00m i = \u001b[34m0\u001b[39;49;00m; i < N; i++) {\n",
      " 1ef:\t\u001b[34m8d 48 07 \u001b[39;49;00m            \t\u001b[32mlea\u001b[39;49;00m    \u001b[34m0x7\u001b[39;49;00m(\u001b[31m%rax\u001b[39;49;00m),\u001b[31m%ecx\u001b[39;49;00m\n",
      " 1f2:\t\u001b[34m39 cf \u001b[39;49;00m               \t\u001b[32mcmp\u001b[39;49;00m    \u001b[31m%ecx\u001b[39;49;00m,\u001b[31m%edi\u001b[39;49;00m\n",
      " 1f4:\t\u001b[34m0f 8e b5 00 00 00 \u001b[39;49;00m   \t\u001b[32mjle\u001b[39;49;00m    \u001b[34m2af\u001b[39;49;00m <\u001b[31mfma_loop_short\u001b[39;49;00m+\u001b[34m0x2af\u001b[39;49;00m>\n",
      "    a[i] = a[i] * b + c;\n",
      " 1fa:\t\u001b[34m48 63 c9 \u001b[39;49;00m            \t\u001b[32mmovslq\u001b[39;49;00m \u001b[31m%ecx\u001b[39;49;00m,\u001b[31m%rcx\u001b[39;49;00m\n",
      " 1fd:\t\u001b[34mc5 f8 28 d0 \u001b[39;49;00m         \t\u001b[32mvmovaps\u001b[39;49;00m \u001b[31m%xmm0\u001b[39;49;00m,\u001b[31m%xmm2\u001b[39;49;00m\n",
      " 201:\t\u001b[34m48 8d 0c 8a \u001b[39;49;00m         \t\u001b[32mlea\u001b[39;49;00m    (\u001b[31m%rdx\u001b[39;49;00m,\u001b[31m%rcx\u001b[39;49;00m,\u001b[34m4\u001b[39;49;00m),\u001b[31m%rcx\u001b[39;49;00m\n",
      " 205:\t\u001b[34mc4 e2 71 99 11 \u001b[39;49;00m      \t\u001b[32mvfmadd132ss\u001b[39;49;00m (\u001b[31m%rcx\u001b[39;49;00m),\u001b[31m%xmm1\u001b[39;49;00m,\u001b[31m%xmm2\u001b[39;49;00m\n",
      " 20a:\t\u001b[34mc5 fa 11 11 \u001b[39;49;00m         \t\u001b[32mvmovss\u001b[39;49;00m \u001b[31m%xmm2\u001b[39;49;00m,(\u001b[31m%rcx\u001b[39;49;00m)\n",
      "  \u001b[34mfor\u001b[39;49;00m (\u001b[36mint\u001b[39;49;00m i = \u001b[34m0\u001b[39;49;00m; i < N; i++) {\n",
      " 20e:\t\u001b[34m8d 48 08 \u001b[39;49;00m            \t\u001b[32mlea\u001b[39;49;00m    \u001b[34m0x8\u001b[39;49;00m(\u001b[31m%rax\u001b[39;49;00m),\u001b[31m%ecx\u001b[39;49;00m\n",
      " 211:\t\u001b[34m39 cf \u001b[39;49;00m               \t\u001b[32mcmp\u001b[39;49;00m    \u001b[31m%ecx\u001b[39;49;00m,\u001b[31m%edi\u001b[39;49;00m\n",
      " 213:\t\u001b[34m0f 8e 96 00 00 00 \u001b[39;49;00m   \t\u001b[32mjle\u001b[39;49;00m    \u001b[34m2af\u001b[39;49;00m <\u001b[31mfma_loop_short\u001b[39;49;00m+\u001b[34m0x2af\u001b[39;49;00m>\n",
      "    a[i] = a[i] * b + c;\n",
      " 219:\t\u001b[34m48 63 c9 \u001b[39;49;00m            \t\u001b[32mmovslq\u001b[39;49;00m \u001b[31m%ecx\u001b[39;49;00m,\u001b[31m%rcx\u001b[39;49;00m\n",
      " 21c:\t\u001b[34mc5 f8 28 d0 \u001b[39;49;00m         \t\u001b[32mvmovaps\u001b[39;49;00m \u001b[31m%xmm0\u001b[39;49;00m,\u001b[31m%xmm2\u001b[39;49;00m\n",
      " 220:\t\u001b[34m48 8d 0c 8a \u001b[39;49;00m         \t\u001b[32mlea\u001b[39;49;00m    (\u001b[31m%rdx\u001b[39;49;00m,\u001b[31m%rcx\u001b[39;49;00m,\u001b[34m4\u001b[39;49;00m),\u001b[31m%rcx\u001b[39;49;00m\n",
      " 224:\t\u001b[34mc4 e2 71 99 11 \u001b[39;49;00m      \t\u001b[32mvfmadd132ss\u001b[39;49;00m (\u001b[31m%rcx\u001b[39;49;00m),\u001b[31m%xmm1\u001b[39;49;00m,\u001b[31m%xmm2\u001b[39;49;00m\n",
      " 229:\t\u001b[34mc5 fa 11 11 \u001b[39;49;00m         \t\u001b[32mvmovss\u001b[39;49;00m \u001b[31m%xmm2\u001b[39;49;00m,(\u001b[31m%rcx\u001b[39;49;00m)\n",
      "  \u001b[34mfor\u001b[39;49;00m (\u001b[36mint\u001b[39;49;00m i = \u001b[34m0\u001b[39;49;00m; i < N; i++) {\n",
      " 22d:\t\u001b[34m8d 48 09 \u001b[39;49;00m            \t\u001b[32mlea\u001b[39;49;00m    \u001b[34m0x9\u001b[39;49;00m(\u001b[31m%rax\u001b[39;49;00m),\u001b[31m%ecx\u001b[39;49;00m\n",
      " 230:\t\u001b[34m39 cf \u001b[39;49;00m               \t\u001b[32mcmp\u001b[39;49;00m    \u001b[31m%ecx\u001b[39;49;00m,\u001b[31m%edi\u001b[39;49;00m\n",
      " 232:\t\u001b[34m7e 7b \u001b[39;49;00m               \t\u001b[32mjle\u001b[39;49;00m    \u001b[34m2af\u001b[39;49;00m <\u001b[31mfma_loop_short\u001b[39;49;00m+\u001b[34m0x2af\u001b[39;49;00m>\n",
      "    a[i] = a[i] * b + c;\n",
      " 234:\t\u001b[34m48 63 c9 \u001b[39;49;00m            \t\u001b[32mmovslq\u001b[39;49;00m \u001b[31m%ecx\u001b[39;49;00m,\u001b[31m%rcx\u001b[39;49;00m\n",
      " 237:\t\u001b[34mc5 f8 28 d0 \u001b[39;49;00m         \t\u001b[32mvmovaps\u001b[39;49;00m \u001b[31m%xmm0\u001b[39;49;00m,\u001b[31m%xmm2\u001b[39;49;00m\n",
      " 23b:\t\u001b[34m48 8d 0c 8a \u001b[39;49;00m         \t\u001b[32mlea\u001b[39;49;00m    (\u001b[31m%rdx\u001b[39;49;00m,\u001b[31m%rcx\u001b[39;49;00m,\u001b[34m4\u001b[39;49;00m),\u001b[31m%rcx\u001b[39;49;00m\n",
      " 23f:\t\u001b[34mc4 e2 71 99 11 \u001b[39;49;00m      \t\u001b[32mvfmadd132ss\u001b[39;49;00m (\u001b[31m%rcx\u001b[39;49;00m),\u001b[31m%xmm1\u001b[39;49;00m,\u001b[31m%xmm2\u001b[39;49;00m\n",
      " 244:\t\u001b[34mc5 fa 11 11 \u001b[39;49;00m         \t\u001b[32mvmovss\u001b[39;49;00m \u001b[31m%xmm2\u001b[39;49;00m,(\u001b[31m%rcx\u001b[39;49;00m)\n",
      "  \u001b[34mfor\u001b[39;49;00m (\u001b[36mint\u001b[39;49;00m i = \u001b[34m0\u001b[39;49;00m; i < N; i++) {\n",
      " 248:\t\u001b[34m8d 48 0a \u001b[39;49;00m            \t\u001b[32mlea\u001b[39;49;00m    \u001b[34m0xa\u001b[39;49;00m(\u001b[31m%rax\u001b[39;49;00m),\u001b[31m%ecx\u001b[39;49;00m\n",
      " 24b:\t\u001b[34m39 cf \u001b[39;49;00m               \t\u001b[32mcmp\u001b[39;49;00m    \u001b[31m%ecx\u001b[39;49;00m,\u001b[31m%edi\u001b[39;49;00m\n",
      " 24d:\t\u001b[34m7e 60 \u001b[39;49;00m               \t\u001b[32mjle\u001b[39;49;00m    \u001b[34m2af\u001b[39;49;00m <\u001b[31mfma_loop_short\u001b[39;49;00m+\u001b[34m0x2af\u001b[39;49;00m>\n",
      "    a[i] = a[i] * b + c;\n",
      " 24f:\t\u001b[34m48 63 c9 \u001b[39;49;00m            \t\u001b[32mmovslq\u001b[39;49;00m \u001b[31m%ecx\u001b[39;49;00m,\u001b[31m%rcx\u001b[39;49;00m\n",
      " 252:\t\u001b[34mc5 f8 28 d0 \u001b[39;49;00m         \t\u001b[32mvmovaps\u001b[39;49;00m \u001b[31m%xmm0\u001b[39;49;00m,\u001b[31m%xmm2\u001b[39;49;00m\n",
      " 256:\t\u001b[34m48 8d 0c 8a \u001b[39;49;00m         \t\u001b[32mlea\u001b[39;49;00m    (\u001b[31m%rdx\u001b[39;49;00m,\u001b[31m%rcx\u001b[39;49;00m,\u001b[34m4\u001b[39;49;00m),\u001b[31m%rcx\u001b[39;49;00m\n",
      " 25a:\t\u001b[34mc4 e2 71 99 11 \u001b[39;49;00m      \t\u001b[32mvfmadd132ss\u001b[39;49;00m (\u001b[31m%rcx\u001b[39;49;00m),\u001b[31m%xmm1\u001b[39;49;00m,\u001b[31m%xmm2\u001b[39;49;00m\n",
      " 25f:\t\u001b[34mc5 fa 11 11 \u001b[39;49;00m         \t\u001b[32mvmovss\u001b[39;49;00m \u001b[31m%xmm2\u001b[39;49;00m,(\u001b[31m%rcx\u001b[39;49;00m)\n",
      "  \u001b[34mfor\u001b[39;49;00m (\u001b[36mint\u001b[39;49;00m i = \u001b[34m0\u001b[39;49;00m; i < N; i++) {\n",
      " 263:\t\u001b[34m8d 48 0b \u001b[39;49;00m            \t\u001b[32mlea\u001b[39;49;00m    \u001b[34m0xb\u001b[39;49;00m(\u001b[31m%rax\u001b[39;49;00m),\u001b[31m%ecx\u001b[39;49;00m\n",
      " 266:\t\u001b[34m39 cf \u001b[39;49;00m               \t\u001b[32mcmp\u001b[39;49;00m    \u001b[31m%ecx\u001b[39;49;00m,\u001b[31m%edi\u001b[39;49;00m\n",
      " 268:\t\u001b[34m7e 45 \u001b[39;49;00m               \t\u001b[32mjle\u001b[39;49;00m    \u001b[34m2af\u001b[39;49;00m <\u001b[31mfma_loop_short\u001b[39;49;00m+\u001b[34m0x2af\u001b[39;49;00m>\n",
      "    a[i] = a[i] * b + c;\n",
      " 26a:\t\u001b[34m48 63 c9 \u001b[39;49;00m            \t\u001b[32mmovslq\u001b[39;49;00m \u001b[31m%ecx\u001b[39;49;00m,\u001b[31m%rcx\u001b[39;49;00m\n",
      " 26d:\t\u001b[34mc5 f8 28 d0 \u001b[39;49;00m         \t\u001b[32mvmovaps\u001b[39;49;00m \u001b[31m%xmm0\u001b[39;49;00m,\u001b[31m%xmm2\u001b[39;49;00m\n",
      " 271:\t\u001b[34m48 8d 0c 8a \u001b[39;49;00m         \t\u001b[32mlea\u001b[39;49;00m    (\u001b[31m%rdx\u001b[39;49;00m,\u001b[31m%rcx\u001b[39;49;00m,\u001b[34m4\u001b[39;49;00m),\u001b[31m%rcx\u001b[39;49;00m\n",
      " 275:\t\u001b[34mc4 e2 71 99 11 \u001b[39;49;00m      \t\u001b[32mvfmadd132ss\u001b[39;49;00m (\u001b[31m%rcx\u001b[39;49;00m),\u001b[31m%xmm1\u001b[39;49;00m,\u001b[31m%xmm2\u001b[39;49;00m\n",
      " 27a:\t\u001b[34mc5 fa 11 11 \u001b[39;49;00m         \t\u001b[32mvmovss\u001b[39;49;00m \u001b[31m%xmm2\u001b[39;49;00m,(\u001b[31m%rcx\u001b[39;49;00m)\n",
      "  \u001b[34mfor\u001b[39;49;00m (\u001b[36mint\u001b[39;49;00m i = \u001b[34m0\u001b[39;49;00m; i < N; i++) {\n",
      " 27e:\t\u001b[34m8d 48 0c \u001b[39;49;00m            \t\u001b[32mlea\u001b[39;49;00m    \u001b[34m0xc\u001b[39;49;00m(\u001b[31m%rax\u001b[39;49;00m),\u001b[31m%ecx\u001b[39;49;00m\n",
      " 281:\t\u001b[34m39 cf \u001b[39;49;00m               \t\u001b[32mcmp\u001b[39;49;00m    \u001b[31m%ecx\u001b[39;49;00m,\u001b[31m%edi\u001b[39;49;00m\n",
      " 283:\t\u001b[34m7e 2a \u001b[39;49;00m               \t\u001b[32mjle\u001b[39;49;00m    \u001b[34m2af\u001b[39;49;00m <\u001b[31mfma_loop_short\u001b[39;49;00m+\u001b[34m0x2af\u001b[39;49;00m>\n",
      "    a[i] = a[i] * b + c;\n",
      " 285:\t\u001b[34m48 63 c9 \u001b[39;49;00m            \t\u001b[32mmovslq\u001b[39;49;00m \u001b[31m%ecx\u001b[39;49;00m,\u001b[31m%rcx\u001b[39;49;00m\n",
      " 288:\t\u001b[34mc5 f8 28 d0 \u001b[39;49;00m         \t\u001b[32mvmovaps\u001b[39;49;00m \u001b[31m%xmm0\u001b[39;49;00m,\u001b[31m%xmm2\u001b[39;49;00m\n",
      "  \u001b[34mfor\u001b[39;49;00m (\u001b[36mint\u001b[39;49;00m i = \u001b[34m0\u001b[39;49;00m; i < N; i++) {\n",
      " 28c:\t\u001b[34m83 c0 0d \u001b[39;49;00m            \t\u001b[32madd\u001b[39;49;00m    \u001b[31m$0xd\u001b[39;49;00m,\u001b[31m%eax\u001b[39;49;00m\n",
      "    a[i] = a[i] * b + c;\n",
      " 28f:\t\u001b[34m48 8d 0c 8a \u001b[39;49;00m         \t\u001b[32mlea\u001b[39;49;00m    (\u001b[31m%rdx\u001b[39;49;00m,\u001b[31m%rcx\u001b[39;49;00m,\u001b[34m4\u001b[39;49;00m),\u001b[31m%rcx\u001b[39;49;00m\n",
      " 293:\t\u001b[34mc4 e2 71 99 11 \u001b[39;49;00m      \t\u001b[32mvfmadd132ss\u001b[39;49;00m (\u001b[31m%rcx\u001b[39;49;00m),\u001b[31m%xmm1\u001b[39;49;00m,\u001b[31m%xmm2\u001b[39;49;00m\n",
      " 298:\t\u001b[34mc5 fa 11 11 \u001b[39;49;00m         \t\u001b[32mvmovss\u001b[39;49;00m \u001b[31m%xmm2\u001b[39;49;00m,(\u001b[31m%rcx\u001b[39;49;00m)\n",
      "  \u001b[34mfor\u001b[39;49;00m (\u001b[36mint\u001b[39;49;00m i = \u001b[34m0\u001b[39;49;00m; i < N; i++) {\n",
      " 29c:\t\u001b[34m39 c7 \u001b[39;49;00m               \t\u001b[32mcmp\u001b[39;49;00m    \u001b[31m%eax\u001b[39;49;00m,\u001b[31m%edi\u001b[39;49;00m\n",
      " 29e:\t\u001b[34m7e 0f \u001b[39;49;00m               \t\u001b[32mjle\u001b[39;49;00m    \u001b[34m2af\u001b[39;49;00m <\u001b[31mfma_loop_short\u001b[39;49;00m+\u001b[34m0x2af\u001b[39;49;00m>\n",
      "    a[i] = a[i] * b + c;\n",
      " 2a0:\t\u001b[34m48 98 \u001b[39;49;00m               \t\u001b[32mcltq\u001b[39;49;00m   \n",
      " 2a2:\t\u001b[34m48 8d 04 82 \u001b[39;49;00m         \t\u001b[32mlea\u001b[39;49;00m    (\u001b[31m%rdx\u001b[39;49;00m,\u001b[31m%rax\u001b[39;49;00m,\u001b[34m4\u001b[39;49;00m),\u001b[31m%rax\u001b[39;49;00m\n",
      " 2a6:\t\u001b[34mc4 e2 71 99 00 \u001b[39;49;00m      \t\u001b[32mvfmadd132ss\u001b[39;49;00m (\u001b[31m%rax\u001b[39;49;00m),\u001b[31m%xmm1\u001b[39;49;00m,\u001b[31m%xmm0\u001b[39;49;00m\n",
      " 2ab:\t\u001b[34mc5 fa 11 00 \u001b[39;49;00m         \t\u001b[32mvmovss\u001b[39;49;00m \u001b[31m%xmm0\u001b[39;49;00m,(\u001b[31m%rax\u001b[39;49;00m)\n",
      "  }\n",
      "}\n",
      " 2af:\t\u001b[34mc3 \u001b[39;49;00m                  \t\u001b[32mretq\u001b[39;49;00m   \n",
      "  \u001b[34mfor\u001b[39;49;00m (\u001b[36mint\u001b[39;49;00m i = \u001b[34m0\u001b[39;49;00m; i < N; i++) {\n",
      " 2b0:\t\u001b[34m41 ba 02 00 00 00 \u001b[39;49;00m   \t\u001b[32mmov\u001b[39;49;00m    \u001b[31m$0x2\u001b[39;49;00m,\u001b[31m%r10d\u001b[39;49;00m\n",
      " 2b6:\t\u001b[34me9 13 fe ff ff \u001b[39;49;00m      \t\u001b[32mjmpq\u001b[39;49;00m   \u001b[34mce\u001b[39;49;00m <\u001b[31mfma_loop_short\u001b[39;49;00m+\u001b[34m0xce\u001b[39;49;00m>\n",
      " 2bb:\t\u001b[34m0f 1f 44 00 00 \u001b[39;49;00m      \t\u001b[32mnopl\u001b[39;49;00m   \u001b[34m0x0\u001b[39;49;00m(\u001b[31m%rax\u001b[39;49;00m,\u001b[31m%rax\u001b[39;49;00m,\u001b[34m1\u001b[39;49;00m)\n"
     ]
    },
    {
     "name": "stdout",
     "output_type": "stream",
     "text": [
      " 2c0:\t\u001b[34m41 ba 01 00 00 00 \u001b[39;49;00m   \t\u001b[32mmov\u001b[39;49;00m    \u001b[31m$0x1\u001b[39;49;00m,\u001b[31m%r10d\u001b[39;49;00m\n",
      " 2c6:\t\u001b[34me9 03 fe ff ff \u001b[39;49;00m      \t\u001b[32mjmpq\u001b[39;49;00m   \u001b[34mce\u001b[39;49;00m <\u001b[31mfma_loop_short\u001b[39;49;00m+\u001b[34m0xce\u001b[39;49;00m>\n",
      " 2cb:\t\u001b[34m0f 1f 44 00 00 \u001b[39;49;00m      \t\u001b[32mnopl\u001b[39;49;00m   \u001b[34m0x0\u001b[39;49;00m(\u001b[31m%rax\u001b[39;49;00m,\u001b[31m%rax\u001b[39;49;00m,\u001b[34m1\u001b[39;49;00m)\n",
      " 2d0:\t\u001b[34mc5 f8 77 \u001b[39;49;00m            \t\u001b[32mvzeroupper\u001b[39;49;00m \n",
      " 2d3:\t\u001b[34mc3 \u001b[39;49;00m                  \t\u001b[32mretq\u001b[39;49;00m   \n",
      " 2d4:\t\u001b[34m0f 1f 40 00 \u001b[39;49;00m         \t\u001b[32mnopl\u001b[39;49;00m   \u001b[34m0x0\u001b[39;49;00m(\u001b[31m%rax\u001b[39;49;00m)\n",
      " 2d8:\t\u001b[34m45 31 d2 \u001b[39;49;00m            \t\u001b[32mxor\u001b[39;49;00m    \u001b[31m%r10d\u001b[39;49;00m,\u001b[31m%r10d\u001b[39;49;00m\n",
      " 2db:\t\u001b[34me9 ee fd ff ff \u001b[39;49;00m      \t\u001b[32mjmpq\u001b[39;49;00m   \u001b[34mce\u001b[39;49;00m <\u001b[31mfma_loop_short\u001b[39;49;00m+\u001b[34m0xce\u001b[39;49;00m>\n",
      " 2e0:\t\u001b[34m31 c0 \u001b[39;49;00m               \t\u001b[32mxor\u001b[39;49;00m    \u001b[31m%eax\u001b[39;49;00m,\u001b[31m%eax\u001b[39;49;00m\n",
      " 2e2:\t\u001b[34me9 3a fe ff ff \u001b[39;49;00m      \t\u001b[32mjmpq\u001b[39;49;00m   \u001b[34m121\u001b[39;49;00m <\u001b[31mfma_loop_short\u001b[39;49;00m+\u001b[34m0x121\u001b[39;49;00m>\n",
      " 2e7:\t\u001b[34m66 0f 1f 84 00 00 00 \u001b[39;49;00m\t\u001b[32mnopw\u001b[39;49;00m   \u001b[34m0x0\u001b[39;49;00m(\u001b[31m%rax\u001b[39;49;00m,\u001b[31m%rax\u001b[39;49;00m,\u001b[34m1\u001b[39;49;00m)\n",
      " 2ee:\t\u001b[34m00 00 \u001b[39;49;00m\n",
      " 2f0:\t\u001b[34m41 ba 03 00 00 00 \u001b[39;49;00m   \t\u001b[32mmov\u001b[39;49;00m    \u001b[31m$0x3\u001b[39;49;00m,\u001b[31m%r10d\u001b[39;49;00m\n",
      " 2f6:\t\u001b[34me9 d3 fd ff ff \u001b[39;49;00m      \t\u001b[32mjmpq\u001b[39;49;00m   \u001b[34mce\u001b[39;49;00m <\u001b[31mfma_loop_short\u001b[39;49;00m+\u001b[34m0xce\u001b[39;49;00m>\n",
      " 2fb:\t\u001b[34m0f 1f 44 00 00 \u001b[39;49;00m      \t\u001b[32mnopl\u001b[39;49;00m   \u001b[34m0x0\u001b[39;49;00m(\u001b[31m%rax\u001b[39;49;00m,\u001b[31m%rax\u001b[39;49;00m,\u001b[34m1\u001b[39;49;00m)\n",
      " 300:\t\u001b[34m41 ba 04 00 00 00 \u001b[39;49;00m   \t\u001b[32mmov\u001b[39;49;00m    \u001b[31m$0x4\u001b[39;49;00m,\u001b[31m%r10d\u001b[39;49;00m\n",
      " 306:\t\u001b[34me9 c3 fd ff ff \u001b[39;49;00m      \t\u001b[32mjmpq\u001b[39;49;00m   \u001b[34mce\u001b[39;49;00m <\u001b[31mfma_loop_short\u001b[39;49;00m+\u001b[34m0xce\u001b[39;49;00m>\n",
      " 30b:\t\u001b[34m0f 1f 44 00 00 \u001b[39;49;00m      \t\u001b[32mnopl\u001b[39;49;00m   \u001b[34m0x0\u001b[39;49;00m(\u001b[31m%rax\u001b[39;49;00m,\u001b[31m%rax\u001b[39;49;00m,\u001b[34m1\u001b[39;49;00m)\n",
      " 310:\t\u001b[34m41 ba 05 00 00 00 \u001b[39;49;00m   \t\u001b[32mmov\u001b[39;49;00m    \u001b[31m$0x5\u001b[39;49;00m,\u001b[31m%r10d\u001b[39;49;00m\n",
      " 316:\t\u001b[34me9 b3 fd ff ff \u001b[39;49;00m      \t\u001b[32mjmpq\u001b[39;49;00m   \u001b[34mce\u001b[39;49;00m <\u001b[31mfma_loop_short\u001b[39;49;00m+\u001b[34m0xce\u001b[39;49;00m>\n",
      " 31b:\t\u001b[34m41 ba 06 00 00 00 \u001b[39;49;00m   \t\u001b[32mmov\u001b[39;49;00m    \u001b[31m$0x6\u001b[39;49;00m,\u001b[31m%r10d\u001b[39;49;00m\n",
      " 321:\t\u001b[34me9 a8 fd ff ff \u001b[39;49;00m      \t\u001b[32mjmpq\u001b[39;49;00m   \u001b[34mce\u001b[39;49;00m <\u001b[31mfma_loop_short\u001b[39;49;00m+\u001b[34m0xce\u001b[39;49;00m>\n"
     ]
    }
   ],
   "source": [
    "objdump -Sd fma_loop_short.o | pygmentize -l c-objdump"
   ]
  },
  {
   "cell_type": "markdown",
   "metadata": {},
   "source": [
    "The compiler actually compiled several version of the loop, some optimized for different inputs.\n",
    "\n",
    "There are instructions that we didnt see before, like `vfmadd132ps`.  Let's go to Intel's [intrinsics reference](https://software.intel.com/sites/landingpage/IntrinsicsGuide/#!=undefined) to see what we can see."
   ]
  },
  {
   "cell_type": "markdown",
   "metadata": {},
   "source": [
    "What did we learn:\n",
    "\n",
    "- There are **vectorized** instructions, when a single instruction operates on multiple data at one time (SIMD).\n",
    "- **Fused multiply add** is an instruction that counts as two flops at once!  It is so fundamental to linear algebra that it deserves optimization.\n",
    "- **Execution itself is pipelined**, with the pipeline depth depending on the instruction.\n",
    "- Sometimes there are multiple functional units that can do the same instruction (2 FPUs on a modern Intel chip, for instance)."
   ]
  },
  {
   "cell_type": "markdown",
   "metadata": {},
   "source": [
    "### Putting it all together\n",
    "\n",
    "Because pipelined instructions have to be independent, how many independent FMAs do we have to have to issue one per cycle to each FPU on a core, thus achieving peak flops/cycle?\n",
    "\n",
    "An application of\n",
    "\n",
    "## Little's Law\n",
    "\n",
    "$$\\Huge L = \\lambda W$$\n",
    "\n",
    "- $L$: The concurrency, number of concurrent, independent operations that will fill the pipeline\n",
    "- $\\lambda$: the \"width\" of the data that can be entered into the pipeline in a single cycle\n",
    "- $W$: the depth of the pipeline\n",
    "\n",
    "Multiply this by the number of cores in a node and the number of nodes in a machine to get\n",
    "the CPU flops of that machine!"
   ]
  },
  {
   "cell_type": "markdown",
   "metadata": {},
   "source": [
    "## Comparing CPU cores and GPU streaming multiprocessors (SMs)\n",
    "\n",
    "`(TODO: inline Prof. Vuduc's slides)`\n",
    "\n",
    "Some key takeaways:\n",
    "\n",
    "- The CUDA programming model is Single Instruction Mutliple Thread: each thread has its own registers, but a shared instruction stream.\n",
    "- One instruction is executed on a **warp** a group of 32 threads that mostly work in lock step\n",
    "- Every instruction is vectorized, not just special instructions on the CPU.\n",
    "- Mostly: any branch divergence between them is *serialized*, so in addition to misprediction, branching has another steep price on GPUs.\n",
    "- Question: what are the depths of the pipelines on a Streaming Multiprocessor?"
   ]
  },
  {
   "cell_type": "markdown",
   "metadata": {
    "slideshow": {
     "slide_type": "slide"
    }
   },
   "source": [
    "## Comparing CPU cores and GPU streaming multiprocessors (SMs)\n",
    "\n",
    "`(TODO: inline Prof. Vuduc's slides)`\n",
    "\n",
    "Some key takeaways:\n",
    "\n",
    "- The CUDA programming model is Single Instruction Mutliple Thread: each thread has its own registers, but a shared instruction stream.\n",
    "- One instruction is executed on a **warp** a group of 32 threads that mostly work in lock step\n",
    "- Every instruction is vectorized, not just special instructions on the CPU.\n",
    "- Mostly: any branch divergence between them is *serialized*, so in addition to misprediction, branching has another steep price on GPUs.\n",
    "- Question: what are the depths of the pipelines on a Streaming Multiprocessor?"
   ]
  },
  {
   "cell_type": "markdown",
   "metadata": {},
   "source": [
    "## Exploiting The Concurrency In Your Code\n",
    "\n",
    "(TODO: inline Prof. Vuduc's slides)"
   ]
  }
 ],
 "metadata": {
  "celltoolbar": "Slideshow",
  "kernelspec": {
   "display_name": "Bash",
   "language": "bash",
   "name": "bash"
  },
  "language_info": {
   "codemirror_mode": "shell",
   "file_extension": ".sh",
   "mimetype": "text/x-sh",
   "name": "bash"
  }
 },
 "nbformat": 4,
 "nbformat_minor": 2
}
