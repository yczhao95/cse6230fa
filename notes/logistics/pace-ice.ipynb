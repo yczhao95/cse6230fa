{
 "cells": [
  {
   "cell_type": "markdown",
   "metadata": {
    "slideshow": {
     "slide_type": "slide"
    }
   },
   "source": [
    "# Getting started on PACE-ICE\n",
    "\n",
    "PACE-ICE is the cluster at GT where most of the assignments for this course should be run.\n",
    "\n",
    "This notebook will get you started with logging in to the cluster and setting up your environment.\n",
    "\n",
    "**Note:** access is restricted to behind the GT firewall (either on campus or connected via [vpn]).\n",
    "\n",
    "[vpn]: https://faq.oit.gatech.edu/content/how-do-i-get-started-campus-vpn"
   ]
  },
  {
   "cell_type": "markdown",
   "metadata": {
    "slideshow": {
     "slide_type": "slide"
    }
   },
   "source": [
    "## ssh into PACE-ICE\n",
    "\n",
    "This is the full command to open a secure shell into the cluster.  This assumes you have `$GTUSER` as your GT user ID.\n",
    "\n",
    "```bash\n",
    "ssh -X ${GTUSER}@coc-ice.pace.gatech.edu\n",
    "```\n",
    "\n",
    "Note:\n",
    "\n",
    "- I am passing the `-X` flag, which will allow GUI windows opened on the cluster to open on your screen.\n",
    "\n",
    "- I didn't make this a notebook cell you can evaluate, because it would hang: `ssh` doesn't return until\n",
    "  you log out of the remote shell, and there's no standard input that would let you do that."
   ]
  },
  {
   "cell_type": "markdown",
   "metadata": {
    "slideshow": {
     "slide_type": "subslide"
    }
   },
   "source": [
    "If you'd like, you can make an alias for the cluster, by adding something like the following to\n",
    "your ssh config file (usually `${HOME}/.ssh/config`):\n",
    "\n",
    "```\n",
    "Host pace-ice\n",
    "  User yourgtuserid\n",
    "  Hostname coc-ice@pace.gatech.edu\n",
    "  ForwardX11 yes\n",
    "```\n",
    "\n",
    "Then `ssh pace-ice` would be equivalent to the command on the previous slide.\n",
    "    "
   ]
  },
  {
   "cell_type": "markdown",
   "metadata": {
    "slideshow": {
     "slide_type": "subslide"
    }
   },
   "source": [
    "You can, of course, create a keypair using `ssh-keygen` and `ssh-copy-id` so that you don't have to type in your password every time."
   ]
  },
  {
   "cell_type": "markdown",
   "metadata": {
    "slideshow": {
     "slide_type": "slide"
    }
   },
   "source": [
    "## Once you've logged in\n",
    "\n",
    "- You should get a clone of the course repository on the cluster, same as on your local machine.  See the [getting the course repository](getting-the-course-repository.ipynb) notebook: you should be able to follow\n",
    "  the same steps that you did on your laptop/workstation.\n",
    "\n",
    "- As mentioned in that notebook, I recommend defining `CSE6230_DIR`.  I have this is `~/.bash_profile`:"
   ]
  },
  {
   "cell_type": "code",
   "execution_count": null,
   "metadata": {
    "slideshow": {
     "slide_type": "-"
    }
   },
   "outputs": [],
   "source": [
    "export CSE6230_DIR=${HOME}/path/to/your/repo"
   ]
  },
  {
   "cell_type": "markdown",
   "metadata": {
    "slideshow": {
     "slide_type": "subslide"
    }
   },
   "source": [
    "- The PACE team are awesome, and they are maintaining a [module] system.  This means that most of the software\n",
    "  tools that we will use in this class are already installed and can be loaded, unloaded, and swapped\n",
    "  at will.  Run `man module` for an in depth overview of `module` commands.\n",
    "\n",
    "- The course repository has a directory named `modulefiles/cse6230/`, which will set up your environment for assignments.\n",
    "  Add the directory to your module path (again, putting this in your `~/.bash_profile` might make life simpler):\n",
    "\n",
    "[module]: https://www.tacc.utexas.edu/researchdevelopment/tacc-projects/lmod "
   ]
  },
  {
   "cell_type": "code",
   "execution_count": null,
   "metadata": {
    "slideshow": {
     "slide_type": "-"
    }
   },
   "outputs": [],
   "source": [
    "module use ${CSE6230_DIR}/modulefiles"
   ]
  },
  {
   "cell_type": "markdown",
   "metadata": {},
   "source": [
    "- Once you've done that, you can run the following command, and it should load a newer version of git, Intel and CUDA compilers, and jupyter notebook:"
   ]
  },
  {
   "cell_type": "code",
   "execution_count": null,
   "metadata": {},
   "outputs": [],
   "source": [
    "module load cse6230"
   ]
  },
  {
   "cell_type": "markdown",
   "metadata": {},
   "source": [
    "- If any assignments require some particular tools, I intend to have specific module files, e.g.,"
   ]
  },
  {
   "cell_type": "code",
   "execution_count": null,
   "metadata": {},
   "outputs": [],
   "source": [
    "module load cse6230/ex1"
   ]
  },
  {
   "cell_type": "markdown",
   "metadata": {
    "slideshow": {
     "slide_type": "slide"
    }
   },
   "source": [
    "## Running jobs\n",
    "\n",
    "PACE-ICE is a cluster with head nodes, where you arrive when you log in,\n",
    "and compute nodes, where jobs can be run.  Assignments in this class will be run\n",
    "on the compute nodes.\n",
    "\n",
    "Access to the compute nodes is managed by the job scheduler.\n",
    "See the PACE-ICE [orientation slides] for an overview of how to schedule jobs, check the job queue,\n",
    "check resource availability.  Pay particular attention to how to specify the resources your job needs\n",
    "(like a particular kind of GPU).\n",
    "\n",
    "[orientation slides]: https://pace.gatech.edu/sites/default/files/pace-ice_orientation_0.pdf"
   ]
  },
  {
   "cell_type": "markdown",
   "metadata": {
    "slideshow": {
     "slide_type": "subslide"
    }
   },
   "source": [
    "Most assignments will be contained in jupyter notebooks, and some assignments may require your work to be turned in as jupyter notebooks.  Running a notebook on a compute node will try to open a browser, so you need to have X window forwarding.\n",
    "\n",
    "Here is a stub of an interactive job submission that you can use that will do that (thanks to the `-X` flag):\n",
    "\n",
    "```bash\n",
    "qsub -X -I -q coc-ice -d $PWD # Add the resources you need, e.g. -l walltime=0:30:00\n",
    "```\n",
    "\n",
    "We are all sharing this cluster: please exit your interactive jobs when you are done, instead of tying up resources needlessly."
   ]
  }
 ],
 "metadata": {
  "kernelspec": {
   "display_name": "Bash",
   "language": "bash",
   "name": "bash"
  },
  "language_info": {
   "codemirror_mode": "shell",
   "file_extension": ".sh",
   "mimetype": "text/x-sh",
   "name": "bash"
  }
 },
 "nbformat": 4,
 "nbformat_minor": 2
}
