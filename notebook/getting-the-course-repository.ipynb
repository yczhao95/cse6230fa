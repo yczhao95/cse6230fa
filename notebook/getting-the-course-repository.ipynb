{
 "cells": [
  {
   "cell_type": "markdown",
   "metadata": {},
   "source": [
    "# Obtaining the CSE6230 repository\n",
    "\n",
    "All of the materials for this course will be kept in a central [git] repository.  The repository is hosted on\n",
    "the [GT GitHub Enterprise] server.  The repository has a website, https://github.gatech.edu/cse6230fa18/cse6230, where you will be able to see all of the course notes and assignments.\n",
    "\n",
    "[git]:https://git-scm.org\n",
    "[GT GitHub Enterprise]:https://support.cc.gatech.edu/support-tools/faq/what-gt-github-enterprise"
   ]
  },
  {
   "cell_type": "markdown",
   "metadata": {},
   "source": [
    "## Access to the repository\n",
    "\n",
    "What you are reading was written as a [jupyter] notebook that is tracked in the course repository.  Maybe I've found a way to post notebook to our course's [canvas page], or maybe you're looking over someone's shoulder, or whatever: somehow, you may be reading this without access to the repository yet (in which case the link to the course website won't work).  Then you should email [me] and I will give you access.\n",
    "\n",
    "[jupyter]:https://jupyter.org\n",
    "[canvas page]:https://gatech.instructure.com/courses/26393\n",
    "[me]:mailto:tisaac@cc.gatech.edu"
   ]
  },
  {
   "cell_type": "markdown",
   "metadata": {},
   "source": [
    "## Your copies of the repository\n",
    "\n",
    "This class will have lots of coding assignments, and you should work on them the same way you would work on any other coding project.  That means you should be using revision control.  If that's not how you develop, best of luck to you:\n",
    "\n",
    "> _A sadder and a wiser man,  \n",
    "> He rose the morrow morn._\n",
    ">\n",
    "> -- Samuel Taylor Coleridge, _[The Rime of the Ancient Mariner](https://www.poetryfoundation.org/poems/43997/the-rime-of-the-ancient-mariner-text-of-1834)_\n",
    "\n",
    "In fact, you will need at least two copies of the repository:\n",
    "\n",
    "* One on your own GT GitHub account, e.g. https://github.gatech.edu/gpburdell3/cse6230.  __Make sure it is private:__ while you are encouraged to work together and seek each other out for help on assignments, your code should be your own, and we don't want to tempt others.\n",
    "\n",
    "* One on the [instructional cluster]: even if you develop on a laptop or workstation (I do), having your code on the cluster under revision control will make it easy to save changes that you make when running there, and help you make sure that the version of your code that you are testing is one that is checked in, so that the TAs and I will evaluate the same version of the code.\n",
    "\n",
    "If you've used git for a while, you probably have your own way of doing things.  If you're new, below are some code snippets to help you get started.\n",
    "\n",
    "[instructional cluster]:http://pace.gatech.edu/sites/default/files/pace-ice_orientation_0.pdf"
   ]
  },
  {
   "cell_type": "markdown",
   "metadata": {},
   "source": [
    "* Choose a directory for your local repo:  (You might want to add this line to your shell startup script (e.g. `~/.bashrc` if you use bash), for the semester.)"
   ]
  },
  {
   "cell_type": "code",
   "execution_count": null,
   "metadata": {},
   "outputs": [],
   "source": [
    "export CSE6230_DIR=${HOME}/cse6230 # change this to anywhere else you'd like to put it"
   ]
  },
  {
   "cell_type": "markdown",
   "metadata": {},
   "source": [
    "* Your GT account is going to be used in a lot of steps.  Modify this to your own account name:"
   ]
  },
  {
   "cell_type": "code",
   "execution_count": null,
   "metadata": {},
   "outputs": [],
   "source": [
    "export GTUSER=tisaac3"
   ]
  },
  {
   "cell_type": "markdown",
   "metadata": {},
   "source": [
    "* You can clone from the central directory using the `https` address and your account, but you'll have have to give your password.  In fact, you'll have to give your password any time you interact with the repo.  That's why I'd suggest you [setup ssh keys] in your GT GitHub account.  I've put `clone` both ways below, you should use only one.\n",
    "\n",
    "[setup ssh keys]:https://help.github.com/articles/adding-a-new-ssh-key-to-your-github-account/"
   ]
  },
  {
   "cell_type": "code",
   "execution_count": null,
   "metadata": {},
   "outputs": [],
   "source": [
    "#export GTGITHUB=https://${GTUSER}@github.gatech.edu # This way requires a password"
   ]
  },
  {
   "cell_type": "code",
   "execution_count": null,
   "metadata": {},
   "outputs": [],
   "source": [
    "export GTGITHUB=ssh://git@github.gatech.edu # This way uses ssh keys"
   ]
  },
  {
   "cell_type": "code",
   "execution_count": null,
   "metadata": {},
   "outputs": [],
   "source": [
    "git clone ${GTGITHUB}/cse6230fa18/cse6230.git ${CSE6230_DIR}"
   ]
  },
  {
   "cell_type": "markdown",
   "metadata": {},
   "source": [
    "* Now you need your GT repo.  If the central repository were public, you would be able to fork it on the web, but a fork of a public repo can't be made private, and __your repo should be private__.  So create a new repository by clicking [here], naming it `cse6230`, and setting it to private.\n",
    "\n",
    "* Once you have your GT repo, you should add it as a remote to your local repo:\n",
    "\n",
    "[here]:https://github.gatech.edu/new"
   ]
  },
  {
   "cell_type": "code",
   "execution_count": null,
   "metadata": {},
   "outputs": [],
   "source": [
    "cd ${CSE6230_DIR} && git remote add gt-${GTUSER} ${GTGITHUB}/${GTUSER}/cse6230.git"
   ]
  },
  {
   "cell_type": "markdown",
   "metadata": {},
   "source": [
    "* Depending on your version of git, the default behavior of `git push` can do some scary things, like pushing to the wrong branch and accidentally losing you work.  I highly recommend setting the default push behavior to `simple`, which means `git push` without elaboration will only work if the current local branch has a designated upstream branch."
   ]
  },
  {
   "cell_type": "code",
   "execution_count": null,
   "metadata": {},
   "outputs": [],
   "source": [
    "git config push.default simple # You can skip this if you know what you're doing"
   ]
  },
  {
   "cell_type": "markdown",
   "metadata": {},
   "source": [
    "* Now push your local repo, which has all the content of the central repo, to your GT repo:"
   ]
  },
  {
   "cell_type": "code",
   "execution_count": null,
   "metadata": {},
   "outputs": [],
   "source": [
    "git push gt-${GTUSER} master:master # syntax: git push remote-name local-branch:remote-branch"
   ]
  }
 ],
 "metadata": {
  "kernelspec": {
   "display_name": "Bash",
   "language": "bash",
   "name": "bash"
  },
  "language_info": {
   "codemirror_mode": "shell",
   "file_extension": ".sh",
   "mimetype": "text/x-sh",
   "name": "bash"
  }
 },
 "nbformat": 4,
 "nbformat_minor": 2
}
