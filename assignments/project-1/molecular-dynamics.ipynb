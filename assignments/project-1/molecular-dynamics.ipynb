{
 "cells": [
  {
   "cell_type": "markdown",
   "metadata": {},
   "source": [
    "# Project 1: Molecular Dynamics with OpenMP\n",
    "\n",
    "This assignment is due in two weeks time, by **9:30 am on Tuesday October 2nd**.\n",
    "\n",
    "**You may work in pairs on this assignment:** When you officially submit this project on Canvas, you should indicate in the text submission field on Canvas:\n",
    "\n",
    "- Who, if anyone you are working with\n",
    "- If you are working in pairs, indicater whether the repository to be graded is yours or your partner's.\n",
    "- Which commit of your repository you would like to be graded (we will grade the `master` branch by default if no choice is made\n",
    "\n",
    "This assignment will be *graded* on the 28-core nodes.  I believe, however, that you will discover that serial optimization goes a long way, and that the behavior on the 8- and 12-core nodes won't be too different.  So you are encouraged to develop anywhere on pace-ice, or even on your laptop / workstation."
   ]
  },
  {
   "cell_type": "code",
   "execution_count": 54,
   "metadata": {},
   "outputs": [
    {
     "name": "stdout",
     "output_type": "stream",
     "text": [
      " =========================================================================\n",
      "|                                                                         |\n",
      "|       A note about python/3.6:                                          |\n",
      "|       PACE is lacking the staff to install all of the python 3          |\n",
      "|       modules, but we do maintain an anaconda distribution for          |\n",
      "|       both python 2 and python 3. As conda significantly reduces        |\n",
      "|       the overhead with package management, we would much prefer        |\n",
      "|       to maintain python 3 through anaconda.                            |\n",
      "|                                                                         |\n",
      "|       All pace installed modules are visible via the module avail       |\n",
      "|       command.                                                          |\n",
      "|                                                                         |\n",
      " =========================================================================\n"
     ]
    }
   ],
   "source": [
    "module use $CSE6230_DIR/modulefiles\n",
    "module load cse6230"
   ]
  },
  {
   "cell_type": "markdown",
   "metadata": {},
   "source": [
    "(If you are developing on your laptop or workstation you may not have the Intel compilers available to you.  I've included a set of makefile rules for GNU-based builds: you can use `make MAKERULES=gcc` wherever you would use make and it should work.)\n",
    "\n",
    "## About this program\n",
    "\n",
    "The code for this assignment started out almost exactly the same as your third assignment with interacting particles.  We saw in that assignment the way that $O(n^2)$ interactions in an $n$-body simulation dominate the rest of the operations.  This project shows an attempt to return that work complexity from $O(n^2)$ back down to $O(n)$ or thereabouts.\n",
    "  \n",
    "Some of the potentials that define interactions in molecular dynamics decay *quite* rapidly.  So rapidly, that it is not a terrible approximation to assign to each particle an effective **radius $r$**.  If two particles are not touching (that is if their centers are more than $2r$ apart), then the interactions can safely be ignored (particularly if it will be drowned out relative to the background *Brownian* noise that we saw last week).  In side of $2r$, then the overlapping particles start pushing each other apart.\n",
    "\n",
    "If you'd like to see the particulars of this assignments force due to interactions, you can look at `steric.h`, so called because the force approximate [steric effects](https://en.wikipedia.org/wiki/Steric_effects)."
   ]
  },
  {
   "cell_type": "code",
   "execution_count": 1,
   "metadata": {},
   "outputs": [
    {
     "name": "stdout",
     "output_type": "stream",
     "text": [
      "\u001b[36m#\u001b[39;49;00m\u001b[36mif !defined(STERIC_H)\u001b[39;49;00m\u001b[36m\u001b[39;49;00m\n",
      "\u001b[36m#\u001b[39;49;00m\u001b[36mdefine      STERIC_H\u001b[39;49;00m\u001b[36m\u001b[39;49;00m\n",
      "\n",
      "\u001b[36m#\u001b[39;49;00m\u001b[36minclude\u001b[39;49;00m \u001b[37m<math.h>\u001b[39;49;00m\u001b[36m\u001b[39;49;00m\n",
      "\n",
      "\n",
      "\u001b[37m/* This kernel should be called if the distance between two particles is less\u001b[39;49;00m\n",
      "\u001b[37m * than twice the particle radius */\u001b[39;49;00m\n",
      "\u001b[34mstatic\u001b[39;49;00m \u001b[34minline\u001b[39;49;00m \u001b[36mvoid\u001b[39;49;00m\n",
      "\u001b[32mforce_in_range\u001b[39;49;00m (\u001b[36mdouble\u001b[39;49;00m k, \u001b[37m/* The interaction strength (may be scaled by the time step already)\u001b[39;49;00m \u001b[04m\u001b[31;01m*/\u001b[39;49;00m\n",
      "                \u001b[36mdouble\u001b[39;49;00m r, \u001b[37m/* The radius of a particle.  Two particles interact if they intersect */\u001b[39;49;00m\n",
      "                \u001b[36mdouble\u001b[39;49;00m R, \u001b[37m/* The distance between these two particles */\u001b[39;49;00m\n",
      "                \u001b[36mdouble\u001b[39;49;00m dx, \u001b[36mdouble\u001b[39;49;00m dy, \u001b[36mdouble\u001b[39;49;00m dz, \u001b[37m/* The displacement from particle 2 to particle 1 */\u001b[39;49;00m\n",
      "                \u001b[36mdouble\u001b[39;49;00m f[\u001b[34m3\u001b[39;49;00m]) \u001b[37m/* The output force exerted on particle 1 by particle 2 */\u001b[39;49;00m\n",
      "{\n",
      "  \u001b[37m/* The interaction strength starts at 0 when they are just touching,\u001b[39;49;00m\n",
      "\u001b[37m   * becoming infinite as the distance becomes zero */\u001b[39;49;00m\n",
      "  \u001b[36mdouble\u001b[39;49;00m strength = (\u001b[34m2.\u001b[39;49;00m * r - R) / R;\n",
      "\n",
      "  f[\u001b[34m0\u001b[39;49;00m] = k * strength * dx;\n",
      "  f[\u001b[34m1\u001b[39;49;00m] = k * strength * dy;\n",
      "  f[\u001b[34m2\u001b[39;49;00m] = k * strength * dz;\n",
      "}\n",
      "\n",
      "\u001b[37m/* get the square distance and displacement between two particles under periodic\u001b[39;49;00m\n",
      "\u001b[37m * conditions */\u001b[39;49;00m\n",
      "\u001b[34mstatic\u001b[39;49;00m \u001b[34minline\u001b[39;49;00m \u001b[36mdouble\u001b[39;49;00m\n",
      "\u001b[32mdist_and_disp\u001b[39;49;00m (\u001b[36mdouble\u001b[39;49;00m x1, \u001b[36mdouble\u001b[39;49;00m y1, \u001b[36mdouble\u001b[39;49;00m z1, \u001b[37m/* The center of the first particle */\u001b[39;49;00m\n",
      "               \u001b[36mdouble\u001b[39;49;00m x2, \u001b[36mdouble\u001b[39;49;00m y2, \u001b[36mdouble\u001b[39;49;00m z2, \u001b[37m/* The center of the second particle */\u001b[39;49;00m\n",
      "               \u001b[36mdouble\u001b[39;49;00m L, \u001b[37m/* The width of the periodic domain */\u001b[39;49;00m\n",
      "               \u001b[36mdouble\u001b[39;49;00m *Dx, \u001b[36mdouble\u001b[39;49;00m *Dy, \u001b[36mdouble\u001b[39;49;00m *Dz)\n",
      "{\n",
      "  \u001b[36mdouble\u001b[39;49;00m dx, dy, dz;\n",
      "  *Dx = dx = remainder(x1 - x2, L);\n",
      "  *Dy = dy = remainder(y1 - y2, L);\n",
      "  *Dz = dz = remainder(z1 - z2, L);\n",
      "\n",
      "  \u001b[34mreturn\u001b[39;49;00m dx*dx + dy*dy + dz*dz;\n",
      "}\n",
      "\n",
      "\u001b[34mstatic\u001b[39;49;00m \u001b[34minline\u001b[39;49;00m \u001b[36mvoid\u001b[39;49;00m\n",
      "\u001b[32mforce\u001b[39;49;00m (\u001b[36mdouble\u001b[39;49;00m k, \u001b[37m/* The interaction strength (may be scaled by the time step already)\u001b[39;49;00m \u001b[04m\u001b[31;01m*/\u001b[39;49;00m\n",
      "       \u001b[36mdouble\u001b[39;49;00m r, \u001b[37m/* The radius of a particle.  Two particles interact if they intersect */\u001b[39;49;00m\n",
      "       \u001b[36mdouble\u001b[39;49;00m L, \u001b[37m/* The width of the periodic domain */\u001b[39;49;00m\n",
      "       \u001b[36mdouble\u001b[39;49;00m x1, \u001b[36mdouble\u001b[39;49;00m y1, \u001b[36mdouble\u001b[39;49;00m z1, \u001b[37m/* The center of the first particle */\u001b[39;49;00m\n",
      "       \u001b[36mdouble\u001b[39;49;00m x2, \u001b[36mdouble\u001b[39;49;00m y2, \u001b[36mdouble\u001b[39;49;00m z2, \u001b[37m/* The center of the second particle */\u001b[39;49;00m\n",
      "       \u001b[36mdouble\u001b[39;49;00m f[\u001b[34m3\u001b[39;49;00m]) \u001b[37m/* The output force exterted on particle 1 by particle 2 */\u001b[39;49;00m\n",
      "{\n",
      "  \u001b[36mdouble\u001b[39;49;00m dx, dy, dz;\n",
      "  \u001b[36mdouble\u001b[39;49;00m R2;\n",
      "  \u001b[36mdouble\u001b[39;49;00m r2 = \u001b[34m4.\u001b[39;49;00m * r * r;\n",
      "\n",
      "  R2 = dist_and_disp (x1, y1, z1, x2, y2, z2, L, &dx, &dy, &dz);\n",
      "\n",
      "  \u001b[37m/* If the distance between the centers is less than twice the radius, they\u001b[39;49;00m\n",
      "\u001b[37m   * interact */\u001b[39;49;00m\n",
      "  \u001b[34mif\u001b[39;49;00m (R2 < r2) {\n",
      "    \u001b[36mdouble\u001b[39;49;00m R = sqrt(R2);\n",
      "\n",
      "    \u001b[37m//printf(\"(%g,%g,%g)(%g,%g,%g)\\n\",x1, y1, z1, x2, y2, z2);\u001b[39;49;00m\n",
      "\n",
      "    force_in_range (k, r, R, dx, dy, dz, f);\n",
      "  }\n",
      "  \u001b[34melse\u001b[39;49;00m {\n",
      "    f[\u001b[34m0\u001b[39;49;00m] = f[\u001b[34m1\u001b[39;49;00m] = f[\u001b[34m2\u001b[39;49;00m] = \u001b[34m0.\u001b[39;49;00m;\n",
      "  }\n",
      "}\n",
      "\n",
      "\n",
      "\u001b[36m#\u001b[39;49;00m\u001b[36mendif\u001b[39;49;00m\u001b[36m\u001b[39;49;00m\n"
     ]
    }
   ],
   "source": [
    "pygmentize steric.h"
   ]
  },
  {
   "cell_type": "markdown",
   "metadata": {},
   "source": [
    "(If you find part of your program is compute bound, you are welcome to change the implementations in `steric.h`, as long as your still calculate the same function)"
   ]
  },
  {
   "cell_type": "markdown",
   "metadata": {},
   "source": [
    "Now, suppose that our particles bounce around and repel each other until they are roughly in equilibrium.  We would expect that they would be well spread out, and that the chance of any two particles interacting would be no more likely than two particles placed at random.\n",
    "\n",
    "A particle interacts with any particle within a range of $2*r$, which means that around each particle there is a sphere with volume $V_p = \\frac{4}{3}\\pi (2r)^3\\approx 33 r^3$: any particle whose center is outside of that cell does not interact.  Suppose the volume of the periodic domain is $V_D$, and there are $N_p$ particles.  Then if the other $N_p - 1$ particles are distributed at random, then we expect $V_p (N_p - 1)/ V_D$ of those particles to interact with the particle in question.  Therefore we might expect $N_p V_p (N_p - 1) / 2 V_D$ interactions in total.\n",
    "\n",
    "What's the point of this calculation?  Well, when run a periodic simulation, we are trying to approximate a larger domain with a fixed *density* of particles per volume.  Thus, if we consider $\\phi = N_p/ V_D$ to be a fixed density of the problem we are trying to simulate, then the number of interactions is $\\approx (N_p - 1) \\phi / 2$.\n",
    "*We should expect the number of interactions to scale linearly with the number of particles if we keep $\\phi$ fixed.*"
   ]
  },
  {
   "cell_type": "markdown",
   "metadata": {},
   "source": [
    "So how can we exploit the fact that only $O(N_p)$ interactions are expected instead of $O(N_p^2)$?  In our acceleration routine, we should try to rule out particles from interacting with each other.\n",
    "\n",
    "One way to do this is *binning*: we divide up our periodic domain $[-L/2,L/2)^3$ into a grid of $b$ boxes per dimension, $b^3$ boxes total.  An algorithm would look like the following:\n",
    "\n",
    "1. Given each particles coordinates, assign it to the appropriat box.\n",
    "2. If the length of a box $(L / b)$ is longer than $2r$, then every particle can only interact with particles\n",
    "  - In its own box,\n",
    "  - In neighboring boxes\n",
    "3. So loop over neighboring boxes and create a list of *pairs of particles* that are close enough to interact."
   ]
  },
  {
   "cell_type": "markdown",
   "metadata": {},
   "source": [
    "This is what is done now in `accelerate.c`: there is an interaction \"object\" that handles the internals of binning particles into boxes: it returns a list of pairs on request.\n",
    "\n",
    "The previous $O(N_p^2)$ calculation is available for comparison and debugging purposes."
   ]
  },
  {
   "cell_type": "code",
   "execution_count": 1,
   "metadata": {},
   "outputs": [
    {
     "name": "stdout",
     "output_type": "stream",
     "text": [
      "\u001b[34mstatic\u001b[39;49;00m \u001b[36mvoid\u001b[39;49;00m\n",
      "\u001b[32maccelerate_ix\u001b[39;49;00m (Accel accel, Vector X, Vector U)\n",
      "{\n",
      "  IX ix = accel->ix;\n",
      "  \u001b[36mint\u001b[39;49;00m Np = X->Np;\n",
      "  \u001b[36mint\u001b[39;49;00m Npairs;\n",
      "  ix_pair *pairs;\n",
      "  \u001b[36mdouble\u001b[39;49;00m L = accel->L;\n",
      "  \u001b[36mdouble\u001b[39;49;00m k = accel->k;\n",
      "  \u001b[36mdouble\u001b[39;49;00m r = accel->r;\n",
      "\n",
      "  \u001b[34mfor\u001b[39;49;00m (\u001b[36mint\u001b[39;49;00m i = \u001b[34m0\u001b[39;49;00m; i < Np; i++) {\n",
      "    \u001b[34mfor\u001b[39;49;00m (\u001b[36mint\u001b[39;49;00m j = \u001b[34m0\u001b[39;49;00m; j < \u001b[34m3\u001b[39;49;00m; j++) {\n",
      "      IDX(U,j,i) = \u001b[34m0.\u001b[39;49;00m;\n",
      "    }\n",
      "  }\n",
      "\n",
      "  IXGetPairs (ix, X, \u001b[34m2.\u001b[39;49;00m*r, &Npairs, &pairs);\n",
      "  \u001b[34mfor\u001b[39;49;00m (\u001b[36mint\u001b[39;49;00m p = \u001b[34m0\u001b[39;49;00m; p < Npairs; p++) {\n",
      "    \u001b[36mint\u001b[39;49;00m i = pairs[p].p[\u001b[34m0\u001b[39;49;00m];\n",
      "    \u001b[36mint\u001b[39;49;00m j = pairs[p].p[\u001b[34m1\u001b[39;49;00m];\n",
      "    \u001b[36mdouble\u001b[39;49;00m du[\u001b[34m3\u001b[39;49;00m];\n",
      "\n",
      "    force (k, r, L, IDX(X,\u001b[34m0\u001b[39;49;00m,i), IDX(X,\u001b[34m1\u001b[39;49;00m,i), IDX(X,\u001b[34m2\u001b[39;49;00m,i), IDX(X,\u001b[34m0\u001b[39;49;00m,j), IDX(X,\u001b[34m1\u001b[39;49;00m,j), IDX(X,\u001b[34m2\u001b[39;49;00m,j), du);\n",
      "\n",
      "    \u001b[34mfor\u001b[39;49;00m (\u001b[36mint\u001b[39;49;00m d = \u001b[34m0\u001b[39;49;00m; d < \u001b[34m3\u001b[39;49;00m; d++) {\n",
      "      IDX(U,d,i) += du[d];\n",
      "      IDX(U,d,j) -= du[d];\n",
      "    }\n",
      "  }\n",
      "  IXRestorePairs (ix, X, \u001b[34m2.\u001b[39;49;00m*r, &Npairs, &pairs);\n",
      "}\n"
     ]
    }
   ],
   "source": [
    "sed -n '54,85 p' accelerate.c | pygmentize -l c"
   ]
  },
  {
   "cell_type": "markdown",
   "metadata": {},
   "source": [
    "## Your task\n",
    "\n",
    "Your free to make just about any changes you'd like to the code.  The `cloud` program is currently a functioning serial program with a small amount of OpenMP already mixed in.  Below is a sequence of problems of increasing size $N_p$ but fixed density.\n",
    "\n",
    "You should specify OpenMP environment variables before this loop that will be used by the programs."
   ]
  },
  {
   "cell_type": "code",
   "execution_count": null,
   "metadata": {},
   "outputs": [],
   "source": [
    "# export OMP_NUM_THREADS=...\n",
    "# export OMP_PROC_BIND=...\n",
    "# export OMP_SCHEDULE=...\n",
    "# etc."
   ]
  },
  {
   "cell_type": "code",
   "execution_count": 2,
   "metadata": {},
   "outputs": [
    {
     "name": "stdout",
     "output_type": "stream",
     "text": [
      "make --silent clean\n",
      "make --silent cloud\n",
      "perf stat ./cloud 256 25600 1.e-4 100. 1. 20 1.\n",
      "[./cloud] NUM_POINTS=256, NUM_STEPS=25600, CHUNK_SIZE=25600, DT=0.0001, K=100, D=1, L=20, R=1\n",
      "With 256 particles of radius 1 and a box width of 20.000000, the volume fraction is 0.134041.\n",
      "The interaction volume is 33.5103, so we expect 1.07233 interactions per particle, 137.258 overall.\n",
      "interactions: radius 2 is greater than box width 1.66667\n",
      "./cloud: Segmentation fault\n",
      "\n",
      " Performance counter stats for './cloud 256 25600 1.e-4 100. 1. 20 1.':\n",
      "\n",
      "         11.517515      task-clock (msec)         #    0.447 CPUs utilized          \n",
      "                 5      context-switches          #    0.434 K/sec                  \n",
      "                 0      cpu-migrations            #    0.000 K/sec                  \n",
      "               553      page-faults               #    0.048 M/sec                  \n",
      "        37,325,181      cycles                    #    3.241 GHz                    \n",
      "   <not supported>      stalled-cycles-frontend  \n",
      "   <not supported>      stalled-cycles-backend   \n",
      "        10,803,014      instructions              #    0.29  insns per cycle        \n",
      "         1,954,183      branches                  #  169.671 M/sec                  \n",
      "            25,650      branch-misses             #    1.31% of all branches        \n",
      "\n",
      "       0.025760223 seconds time elapsed\n",
      "\n",
      "make --silent clean\n",
      "make --silent cloud\n",
      "perf stat ./cloud 512 6400 1.e-4 100. 1. 25.1926 1.\n",
      "[./cloud] NUM_POINTS=512, NUM_STEPS=6400, CHUNK_SIZE=6400, DT=0.0001, K=100, D=1, L=25.1926, R=1\n",
      "With 512 particles of radius 1 and a box width of 25.192600, the volume fraction is 0.134134.\n",
      "The interaction volume is 33.5103, so we expect 1.07307 interactions per particle, 274.707 overall.\n",
      "\n",
      " Performance counter stats for './cloud 512 6400 1.e-4 100. 1. 25.1926 1.':\n",
      "\n",
      "       2965.353189      task-clock (msec)         #    0.999 CPUs utilized          \n",
      "                15      context-switches          #    0.005 K/sec                  \n",
      "                 0      cpu-migrations            #    0.000 K/sec                  \n",
      "               591      page-faults               #    0.199 K/sec                  \n",
      "     9,763,245,138      cycles                    #    3.292 GHz                    \n",
      "   <not supported>      stalled-cycles-frontend  \n",
      "   <not supported>      stalled-cycles-backend   \n",
      "     9,751,170,610      instructions              #    1.00  insns per cycle        \n",
      "     1,002,485,966      branches                  #  338.066 M/sec                  \n",
      "        68,930,503      branch-misses             #  \u001b[33m  6.88%\u001b[m of all branches        \n",
      "\n",
      "       2.968415288 seconds time elapsed\n",
      "\n",
      "make --silent clean\n",
      "make --silent cloud\n",
      "perf stat ./cloud 1024 1600 1.e-4 100. 1. 31.7334 1.\n",
      "[./cloud] NUM_POINTS=1024, NUM_STEPS=1600, CHUNK_SIZE=1600, DT=0.0001, K=100, D=1, L=31.7334, R=1\n",
      "With 1024 particles of radius 1 and a box width of 31.733400, the volume fraction is 0.134227.\n",
      "The interaction volume is 33.5103, so we expect 1.07381 interactions per particle, 549.792 overall.\n",
      "\n",
      " Performance counter stats for './cloud 1024 1600 1.e-4 100. 1. 31.7334 1.':\n",
      "\n",
      "       1395.141374      task-clock (msec)         #    0.997 CPUs utilized          \n",
      "                 8      context-switches          #    0.006 K/sec                  \n",
      "                 0      cpu-migrations            #    0.000 K/sec                  \n",
      "               602      page-faults               #    0.431 K/sec                  \n",
      "     4,593,564,089      cycles                    #    3.293 GHz                    \n",
      "   <not supported>      stalled-cycles-frontend  \n",
      "   <not supported>      stalled-cycles-backend   \n",
      "     5,206,399,161      instructions              #    1.13  insns per cycle        \n",
      "       614,642,017      branches                  #  440.559 M/sec                  \n",
      "        33,009,199      branch-misses             #  \u001b[33m  5.37%\u001b[m of all branches        \n",
      "\n",
      "       1.399332156 seconds time elapsed\n",
      "\n",
      "make --silent clean\n",
      "make --silent cloud\n",
      "perf stat ./cloud 2048 400 1.e-4 100. 1. 39.9723 1.\n",
      "[./cloud] NUM_POINTS=2048, NUM_STEPS=400, CHUNK_SIZE=400, DT=0.0001, K=100, D=1, L=39.9723, R=1\n",
      "With 2048 particles of radius 1 and a box width of 39.972300, the volume fraction is 0.13432.\n",
      "The interaction volume is 33.5103, so we expect 1.07456 interactions per particle, 1100.35 overall.\n",
      "\n",
      " Performance counter stats for './cloud 2048 400 1.e-4 100. 1. 39.9723 1.':\n",
      "\n",
      "        776.858414      task-clock (msec)         #    0.994 CPUs utilized          \n",
      "                 6      context-switches          #    0.008 K/sec                  \n",
      "                 0      cpu-migrations            #    0.000 K/sec                  \n",
      "               622      page-faults               #    0.801 K/sec                  \n",
      "     2,538,615,315      cycles                    #    3.268 GHz                    \n",
      "   <not supported>      stalled-cycles-frontend  \n",
      "   <not supported>      stalled-cycles-backend   \n",
      "     3,614,105,383      instructions              #    1.42  insns per cycle        \n",
      "       478,508,738      branches                  #  615.954 M/sec                  \n",
      "        13,196,994      branch-misses             #    2.76% of all branches        \n",
      "\n",
      "       0.781562794 seconds time elapsed\n",
      "\n",
      "make --silent clean\n",
      "make --silent cloud\n",
      "perf stat ./cloud 4096 100 1.e-4 100. 1. 50.3503 1.\n",
      "[./cloud] NUM_POINTS=4096, NUM_STEPS=100, CHUNK_SIZE=100, DT=0.0001, K=100, D=1, L=50.3503, R=1\n",
      "With 4096 particles of radius 1 and a box width of 50.350300, the volume fraction is 0.134413.\n",
      "The interaction volume is 33.5103, so we expect 1.07531 interactions per particle, 2202.23 overall.\n",
      "\n",
      " Performance counter stats for './cloud 4096 100 1.e-4 100. 1. 50.3503 1.':\n",
      "\n",
      "        557.869265      task-clock (msec)         #    0.992 CPUs utilized          \n",
      "                 5      context-switches          #    0.009 K/sec                  \n",
      "                 0      cpu-migrations            #    0.000 K/sec                  \n",
      "               662      page-faults               #    0.001 M/sec                  \n",
      "     1,832,714,361      cycles                    #    3.285 GHz                    \n",
      "   <not supported>      stalled-cycles-frontend  \n",
      "   <not supported>      stalled-cycles-backend   \n",
      "     3,012,454,965      instructions              #    1.64  insns per cycle        \n",
      "       427,544,330      branches                  #  766.388 M/sec                  \n",
      "         5,551,620      branch-misses             #    1.30% of all branches        \n",
      "\n",
      "       0.562634422 seconds time elapsed\n",
      "\n"
     ]
    }
   ],
   "source": [
    "for N_p in 1 2 4 8 16; do\n",
    "  this_L=`echo \"$N_p 0.333 20.\" | awk '{ print ($3 * $1^$2); }'`\n",
    "  this_T=`echo \"$N_p 25600\" | awk '{ print ($2 / ($1 * $1)); }'`\n",
    "  make runcloud NP=$(( 256*$N_p )) L=$this_L NT=$this_T PERF=\"perf stat\"\n",
    "done"
   ]
  },
  {
   "cell_type": "markdown",
   "metadata": {},
   "source": [
    "However, you code must still be correct:  an effective diffusion coefficient can be computed for the type of particles you are simulating.  The following diffusion coefficient calculation should stay in the range of 0.8-0.9:"
   ]
  },
  {
   "cell_type": "code",
   "execution_count": 1,
   "metadata": {},
   "outputs": [
    {
     "name": "stdout",
     "output_type": "stream",
     "text": [
      "make --silent clean\n",
      "make --silent cloud\n",
      "./cloud 256 51000 1.e-4 100. 1. 20 0.83 1000 check | python3 check.py\n",
      "Diffusion constant: [ 0.92130055]\n"
     ]
    }
   ],
   "source": [
    "："
   ]
  },
  {
   "cell_type": "markdown",
   "metadata": {},
   "source": [
    "## Grading\n",
    "\n",
    "### 4 pts: Hassle-free usage: if the bash script that is generated by `jupyter convert` from this notebook runs without issue\n",
    "\n",
    "### 6 pts: For code that correctly parallelizes all critical kernels (including the binning calculations in `interactions.c`)\n",
    " \n",
    "- A correct diffusion coefficient is required for correctness\n",
    "- If your code is not correct, points can be salvaged with *legible code* that describes what changes you are making\n",
    "\n",
    "### 6 pts: Speed.  Any (correct) code that is the fastest on one of the benchmark problem sizes automatically gets 6 pts.  Code that does not outperform the initial version on any benchmark gets no points.  1 point will be available for each benchmark problem that shows non-trivial improvements in performance.\n",
    "\n",
    "### 4 pts: Report.  In a cell below this one, describe the optimizations that you made and why you made.\n",
    "\n",
    "- Full points will require evidence (such as a screenshot) from `hpctoolkit` or some other profiling utility that motivates or justifies your changes.\n",
    "- Points will be awarded for optimizations that you tried that did not work as long as you have a good explanation for why you tried them and why they didn't work."
   ]
  },
  {
   "cell_type": "code",
   "execution_count": null,
   "metadata": {},
   "outputs": [],
   "source": [
    "For this assignment, I tried 3 main optimizations\n",
    "    a. Utilized openMP to let different threads calulate the force seperately\n",
    "    on their private vectors and then joining them in a critical block.\n",
    "    However, the improvements of runtime is not very significant, and even 5%\n",
    "    slower when the problem size is small and the overhead of multithreading\n",
    "    slows down the calculation. Another possible reason that the \n",
    "    improvement is small is due to that calculating the force for each\n",
    "    pair only takes a fraction of the total computation, a lot of other works\n",
    "    is done on preparing the pairs.Henceforth, this optimization is not adopted\n",
    "    in the final version.\n",
    "    \n",
    "    b. Adjusted the number of boxes per dimension. Here, I used the box with the\n",
    "    same diameter with the particle effective sphere, to maximize the number of \n",
    "    boxes we can utilize, this reduces in upto 20% of runtime reduction on the \n",
    "    last benchmark. Choosing the right size of boxes is important because, if \n",
    "    the box is too big, then it is not effective enough, and when it is too small,\n",
    "    it could be smaller than the radius and our assumption will not hold, and too\n",
    "    many boxes will make the precalculation slower.\n",
    "    \n",
    "    c.Adjusted the layout of vectors into array of structures. This results in a \n",
    "    very minor improvements on all scales of bencmarks, about 10ms. The possible\n",
    "    reason for this is that in this case, structure of arrays is not cache \n",
    "    friendly.\n",
    "    \n",
    "Two further imporvements could be made, one is to estimate the maximum step one\n",
    "particle can travel for a given step increment, and when calculating the bins, we only\n",
    "need to recalculate those particles that falls in that maximum distance to\n",
    "the boundary of its box.\n",
    "Same goes for calculating pairs, if we find that two particles distance is smaller\n",
    "than  the interact_diameter - maximum_step, they are still going to be a pair\n",
    "and we do not need to calculate their boxing and pairing anymore.\n",
    "I believe that this approach will bring significant improvements to the runtime."
   ]
  },
  {
   "cell_type": "markdown",
   "metadata": {},
   "source": [
    "## Advice\n",
    "\n",
    "- **Understand your code before you try to change it:**\n",
    "    - In addition to profiling utilities, it might be useful to add timers to\n",
    "      individual routines.  The division of the program into objects that control\n",
    "      different aspects of the code should make easy to, say, add a timer\n",
    "      in one place without changing the whole program.\n",
    "- **Simple problem parameters that can be changed:**\n",
    "    - The number of boxes per dimension\n",
    "    - The layout of vectors (array-of-structures or structure of arrays? see `vector.h`)\n",
    "    - The data structures used to assign particles to boxes (is a linked-list really best)?\n",
    "- **Avoid memory and other resource contention:**\n",
    "    - Anytime multiple threads are trying to write to locations close to each\n",
    "      other, it makes it difficult and expensive to make sure each thread has\n",
    "      an up-to-date copy of the memory that is changing.  This would happen,\n",
    "      for example, if many threads are writing to the `pairs` list in\n",
    "      the interactions routine.  Consider allocating a separate workspace for\n",
    "      each thread by, for example, giving each thread its own `pairs` array.\n",
    "      Then, once all threads are done computing their pairs, you can combine\n",
    "      the separate arrays into one array, or even change the interface of the\n",
    "      `interactions()` function so that it is multiple lists are returned.\n",
    "- **Find ways to avoid recomputing from scratch:**\n",
    "    - Can you use the layout of the particles from the last time step to help you\n",
    "      bin or find pairs in the next time step?\n",
    "- **You get to choose how many threads we use to evaluate your code:**\n",
    "    - There's nothing inherently wrong with achieving your best performance\n",
    "      using fewer than the maximum number of threads available on a node.  The\n",
    "      problem may simply not have enough concurrency to support every thread."
   ]
  }
 ],
 "metadata": {
  "kernelspec": {
   "display_name": "Bash",
   "language": "bash",
   "name": "bash"
  },
  "language_info": {
   "codemirror_mode": "shell",
   "file_extension": ".sh",
   "mimetype": "text/x-sh",
   "name": "bash"
  }
 },
 "nbformat": 4,
 "nbformat_minor": 2
}
