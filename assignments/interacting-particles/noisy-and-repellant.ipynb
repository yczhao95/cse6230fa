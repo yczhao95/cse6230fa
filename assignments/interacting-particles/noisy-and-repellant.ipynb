{
 "cells": [
  {
   "cell_type": "markdown",
   "metadata": {},
   "source": [
    "# Noisy and Repellant\n",
    "\n",
    "Your task with this assignment is to parallelize a serial application using OpenMP, and to use profiling tools to assess different approaches to that parallelization."
   ]
  },
  {
   "cell_type": "markdown",
   "metadata": {},
   "source": [
    "This assignment is intended for the CPU-only nodes, where we can get a lot of CPU thread concurrency."
   ]
  },
  {
   "cell_type": "code",
   "execution_count": 3,
   "metadata": {},
   "outputs": [
    {
     "name": "stdout",
     "output_type": "stream",
     "text": [
      " =========================================================================\n",
      "|                                                                         |\n",
      "|       A note about python/3.6:                                          |\n",
      "|       PACE is lacking the staff to install all of the python 3          |\n",
      "|       modules, but we do maintain an anaconda distribution for          |\n",
      "|       both python 2 and python 3. As conda significantly reduces        |\n",
      "|       the overhead with package management, we would much prefer        |\n",
      "|       to maintain python 3 through anaconda.                            |\n",
      "|                                                                         |\n",
      "|       All pace installed modules are visible via the module avail       |\n",
      "|       command.                                                          |\n",
      "|                                                                         |\n",
      " =========================================================================\n"
     ]
    }
   ],
   "source": [
    "module use $CSE6230_DIR/modulefiles\n",
    "module load cse6230"
   ]
  },
  {
   "cell_type": "markdown",
   "metadata": {},
   "source": [
    "Last time, we modelled non-interacting particles as an example of a streaming kernel.  This time, we are going to advance things a bit and have particles that interact with each other and with the \"media\" in which they move.\n",
    "\n",
    "Both gravitational and electrical forces are often modeled as deriving from a simple *potential*: the potential between two particles $p_1$ and $p_2$ is a function of their distance:\n",
    "\n",
    "$$ \\varphi(p_1, p_2) = k \\frac{e_1 e_2}{\\|r_1 - r_2\\|}, $$\n",
    "\n",
    "Where $r_1$ and $r_2$ are their positions, $e_1$ and $e_2$ are their charges, and $k$ is a scaling factor.  In this assignment we will assume $e_i = 1$ for all particles.  The force acting on $p_1$ due to the potential is the negative of its gradient with respect to $r_2$,\n",
    "\n",
    "$$ F(p_1, p_2) = -\\nabla_{r_1} \\varphi(p_1, p_2). $$\n",
    "\n",
    "The whole equal-and-opposite thing in physics implies that a force with the same magnitude and opposite direction acts on $p_2$: $F(p_2, p_1) = - F(p_1, p_2)$.  In this toy problem, all particle masses are equal to 1, so the acceleration due to a force is equivalent to the force.  The *total acceleration* experienced by a particle is the sum of the forces from all other particles:\n",
    "\n",
    "$$ \\partial v_i / \\partial t = \\sum_{j \\neq i} F(p_i, p_j).$$\n",
    "\n",
    "Now we see what makes this different from the streaming kernel we studied last week: to update one particle involves contributions from all other particles, $O(N_p^2)$ interactions!"
   ]
  },
  {
   "cell_type": "markdown",
   "metadata": {},
   "source": [
    "Particles that are affected only by potentials is a good model for particles moving in a vaccuum, but sometimes we want to model particles moving in a medium, where the collide frequently and randomly with other particles.  This type of motion is called [Brownian motion](https://en.wikipedia.org/wiki/Brownian_motion). We'll skip a bunch of statistical physics and jump to the conclusion: whereas numerical time-stepping of a classical force\n",
    "often takes the form of an update like\n",
    "\n",
    "$$ x_{i,t+1} = x_{i,t} + f \\Delta{t}, $$\n",
    "\n",
    "Brownian motion looks like,\n",
    "\n",
    "$$ x_{i,t+1} = x_{i,t} + \\sqrt{2 d \\Delta{t}}z, $$\n",
    "\n",
    "where $z$ is a realization of a random variable."
   ]
  },
  {
   "cell_type": "markdown",
   "metadata": {},
   "source": [
    "If we have charged particles moving in a medium, then both potential and noisy contributions affect the motion of the particle.  Our program for this assignment includes both!  That makes this program more complicated to model and to optimize: we cannot reduce the performance down to the behavior of one kernel, but must try to evaluate when each kernel is the bottleneck."
   ]
  },
  {
   "cell_type": "markdown",
   "metadata": {},
   "source": [
    "Before you start with the actual assignment, let me show you what all of this looks like.\n",
    "We run the program with `make runcloud`, like last time, and many of the variables that define the behavior of the target are the same: `NP` is the number of particles, `DT` is the step size, and `NT` is the number of steps. `K` is the potential coefficient $k$: negative values cause particles to attract and positive values cause particles to repel.  `D` is the diffusion coefficient of Brownian motion.\n",
    "\n",
    "We can make this example look most like the last assignment by turning off Brownian motion and choosing negative $k$:"
   ]
  },
  {
   "cell_type": "code",
   "execution_count": 19,
   "metadata": {},
   "outputs": [
    {
     "name": "stdout",
     "output_type": "stream",
     "text": [
      "make clean\n",
      "make[1]: Entering directory `/nv/coc-ice/tisaac3/srv/rep/cse6230/assignments/interacting-particles'\n",
      "rm -f *.o cloud cloud2\n",
      "make[1]: Leaving directory `/nv/coc-ice/tisaac3/srv/rep/cse6230/assignments/interacting-particles'\n",
      "make cloud\n",
      "make[1]: Entering directory `/nv/coc-ice/tisaac3/srv/rep/cse6230/assignments/interacting-particles'\n",
      "icc -std=c99 -g -Wall -fPIC -O3 -xHost -qopt-report=5 -I../../utils -I../../utils/tictoc   -c -o verlet.o verlet.c\n",
      "icc: remark #10397: optimization reports are generated in *.optrpt files in the output location\n",
      "icc -std=c99 -g -Wall -fPIC -O3 -xHost -qopt-report=5 -I../../utils -I../../utils/tictoc   -c -o verlet_stream_and_noise.o verlet_stream_and_noise.c\n",
      "icc: remark #10397: optimization reports are generated in *.optrpt files in the output location\n",
      "icc -std=c99 -g -Wall -fPIC -O3 -xHost -qopt-report=5 -I../../utils -I../../utils/tictoc   -c -o verlet_accelerate.o verlet_accelerate.c\n",
      "icc: remark #10397: optimization reports are generated in *.optrpt files in the output location\n",
      "icc -std=c99 -g -Wall -fPIC -O3 -xHost -qopt-report=5 -I../../utils -I../../utils/tictoc   -c -o cloud.o cloud.c\n",
      "icc: remark #10397: optimization reports are generated in *.optrpt files in the output location\n",
      "icc -o cloud verlet.o verlet_stream_and_noise.o verlet_accelerate.o cloud.o -lm -lrt\n",
      "make[1]: Leaving directory `/nv/coc-ice/tisaac3/srv/rep/cse6230/assignments/interacting-particles'\n",
      "./cloud 32 400 1.e-5 -1. 0.\n",
      "[./cloud] NUM_POINTS=32, NUM_STEPS=400, CHUNK_SIZE=400, DT=1e-05, K=-1, D=0\n",
      "[./cloud] Hamiltonian, T = 0: -1772.57\n",
      "[./cloud] Simulation time: 0.0198691\n",
      "[./cloud] Hamiltonian, T = 0.004: -1772.57, Relative Error: -6.6997e-09\n",
      "[./cloud] Average Distance Traveled: 0.00406223\n"
     ]
    }
   ],
   "source": [
    "make runcloud NP=32 DT=1.e-5 NT=400 D=0. K=-1."
   ]
  },
  {
   "cell_type": "markdown",
   "metadata": {},
   "source": [
    "You'll notice the output describes the \"Hamiltonian\" of the system.  This is like the total energy, and is theoretically conserved.  When I ran the above, it was conserved to 5 decimal places.  But these $n$-body systems are chaotic, and in particular they are unstable with particles that attract each other.  If we run the same program for just twice as long:"
   ]
  },
  {
   "cell_type": "code",
   "execution_count": 20,
   "metadata": {},
   "outputs": [
    {
     "name": "stdout",
     "output_type": "stream",
     "text": [
      "make clean\n",
      "make[1]: Entering directory `/nv/coc-ice/tisaac3/srv/rep/cse6230/assignments/interacting-particles'\n",
      "rm -f *.o cloud cloud2\n",
      "make[1]: Leaving directory `/nv/coc-ice/tisaac3/srv/rep/cse6230/assignments/interacting-particles'\n",
      "make cloud\n",
      "make[1]: Entering directory `/nv/coc-ice/tisaac3/srv/rep/cse6230/assignments/interacting-particles'\n",
      "icc -std=c99 -g -Wall -fPIC -O3 -xHost -qopt-report=5 -I../../utils -I../../utils/tictoc   -c -o verlet.o verlet.c\n",
      "icc: remark #10397: optimization reports are generated in *.optrpt files in the output location\n",
      "icc -std=c99 -g -Wall -fPIC -O3 -xHost -qopt-report=5 -I../../utils -I../../utils/tictoc   -c -o verlet_stream_and_noise.o verlet_stream_and_noise.c\n",
      "icc: remark #10397: optimization reports are generated in *.optrpt files in the output location\n",
      "icc -std=c99 -g -Wall -fPIC -O3 -xHost -qopt-report=5 -I../../utils -I../../utils/tictoc   -c -o verlet_accelerate.o verlet_accelerate.c\n",
      "icc: remark #10397: optimization reports are generated in *.optrpt files in the output location\n",
      "icc -std=c99 -g -Wall -fPIC -O3 -xHost -qopt-report=5 -I../../utils -I../../utils/tictoc   -c -o cloud.o cloud.c\n",
      "icc: remark #10397: optimization reports are generated in *.optrpt files in the output location\n",
      "icc -o cloud verlet.o verlet_stream_and_noise.o verlet_accelerate.o cloud.o -lm -lrt\n",
      "make[1]: Leaving directory `/nv/coc-ice/tisaac3/srv/rep/cse6230/assignments/interacting-particles'\n",
      "./cloud 32 800 1.e-5 -1. 0.\n",
      "[./cloud] NUM_POINTS=32, NUM_STEPS=800, CHUNK_SIZE=800, DT=1e-05, K=-1, D=0\n",
      "[./cloud] Hamiltonian, T = 0: -1772.57\n",
      "[./cloud] Simulation time: 0.0393579\n",
      "[./cloud] Hamiltonian, T = 0.008: 3534.09, Relative Error: -2.99377\n",
      "[./cloud] Average Distance Traveled: 0.00993427\n"
     ]
    }
   ],
   "source": [
    "make runcloud NP=32 DT=1.e-5 NT=800 D=0. K=-1."
   ]
  },
  {
   "cell_type": "markdown",
   "metadata": {},
   "source": [
    "For this assignment, I made a tool for us to visualize or simulations.  We can generate videos of our simulations, and we can embed them in this notebook.  We do this with the\n",
    "`make vizcloud` target, which takes the same arguments as `make runcloud`, but also `CHUNK` (the number of time steps between frames of the video) and `VIZNAME`, the basename of the output video.  Like so:"
   ]
  },
  {
   "cell_type": "code",
   "execution_count": 23,
   "metadata": {},
   "outputs": [
    {
     "name": "stdout",
     "output_type": "stream",
     "text": [
      "make clean\n",
      "make[1]: Entering directory `/nv/coc-ice/tisaac3/srv/rep/cse6230/assignments/interacting-particles'\n",
      "rm -f *.o cloud cloud2\n",
      "make[1]: Leaving directory `/nv/coc-ice/tisaac3/srv/rep/cse6230/assignments/interacting-particles'\n",
      "make cloud\n",
      "make[1]: Entering directory `/nv/coc-ice/tisaac3/srv/rep/cse6230/assignments/interacting-particles'\n",
      "icc -std=c99 -g -Wall -fPIC -O3 -xHost -qopt-report=5 -I../../utils -I../../utils/tictoc   -c -o verlet.o verlet.c\n",
      "icc: remark #10397: optimization reports are generated in *.optrpt files in the output location\n",
      "icc -std=c99 -g -Wall -fPIC -O3 -xHost -qopt-report=5 -I../../utils -I../../utils/tictoc   -c -o verlet_stream_and_noise.o verlet_stream_and_noise.c\n",
      "icc: remark #10397: optimization reports are generated in *.optrpt files in the output location\n",
      "icc -std=c99 -g -Wall -fPIC -O3 -xHost -qopt-report=5 -I../../utils -I../../utils/tictoc   -c -o verlet_accelerate.o verlet_accelerate.c\n",
      "icc: remark #10397: optimization reports are generated in *.optrpt files in the output location\n",
      "icc -std=c99 -g -Wall -fPIC -O3 -xHost -qopt-report=5 -I../../utils -I../../utils/tictoc   -c -o cloud.o cloud.c\n",
      "icc: remark #10397: optimization reports are generated in *.optrpt files in the output location\n",
      "icc -o cloud verlet.o verlet_stream_and_noise.o verlet_accelerate.o cloud.o -lm -lrt\n",
      "make[1]: Leaving directory `/nv/coc-ice/tisaac3/srv/rep/cse6230/assignments/interacting-particles'\n",
      "./cloud 32 800 1.e-5 -1. 0. 10 attract | python3 cloud.py\n",
      "ERROR: In /work/standalone-x64-build/VTK-source/Rendering/OpenGL2/vtkXOpenGLRenderWindow.cxx, line 445\n",
      "vtkXOpenGLRenderWindow (0xf41d50): bad X server connection. DISPLAY=/bin/sh: line 1: 12719 Broken pipe             ./cloud 32 800 1.e-5 -1. 0. 10 attract\n",
      "     12720 Aborted                 (core dumped) | python3 cloud.py\n",
      "make: *** [vizcloud] Error 134\n"
     ]
    },
    {
     "ename": "",
     "evalue": "2",
     "output_type": "error",
     "traceback": []
    }
   ],
   "source": [
    "make vizcloud NP=32 DT=1.e-5 NT=800 D=0. K=-1. CHUNK=10 VIZNAME=\"attract\""
   ]
  }
 ],
 "metadata": {
  "kernelspec": {
   "display_name": "Bash",
   "language": "bash",
   "name": "bash"
  },
  "language_info": {
   "codemirror_mode": "shell",
   "file_extension": ".sh",
   "mimetype": "text/x-sh",
   "name": "bash"
  }
 },
 "nbformat": 4,
 "nbformat_minor": 2
}
